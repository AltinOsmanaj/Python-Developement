{
 "cells": [
  {
   "cell_type": "markdown",
   "id": "441d7eda-2caa-468f-b387-630adf0ab6cc",
   "metadata": {},
   "source": [
    "### Decorators"
   ]
  },
  {
   "cell_type": "raw",
   "id": "95e85f19-672b-45dd-bdb2-fe127d3b7501",
   "metadata": {},
   "source": [
    "@classmethod\n",
    "@staticmethod"
   ]
  },
  {
   "cell_type": "code",
   "execution_count": 2,
   "id": "dd15caa5-ae8d-4b8d-a2a3-674214859400",
   "metadata": {},
   "outputs": [
    {
     "name": "stdout",
     "output_type": "stream",
     "text": [
      "helllllooooooooo\n",
      "None\n"
     ]
    }
   ],
   "source": [
    "def hello():\n",
    "    print('helllllooooooooo')\n",
    "\n",
    "greet = hello()\n",
    "\n",
    "print(greet)"
   ]
  },
  {
   "cell_type": "code",
   "execution_count": 4,
   "id": "f64f15aa-61cf-44ef-b3bd-351a2ca1ad00",
   "metadata": {},
   "outputs": [
    {
     "name": "stdout",
     "output_type": "stream",
     "text": [
      "helllllooooooooo\n",
      "None\n"
     ]
    }
   ],
   "source": [
    "def hello():\n",
    "    print('helllllooooooooo')\n",
    "\n",
    "greet = hello\n",
    "del hello\n",
    "\n",
    "print(greet())"
   ]
  },
  {
   "cell_type": "code",
   "execution_count": 5,
   "id": "40695590-7c92-4bc2-82a5-7aea9f06c646",
   "metadata": {},
   "outputs": [
    {
     "name": "stdout",
     "output_type": "stream",
     "text": [
      "still here!\n",
      "None\n"
     ]
    }
   ],
   "source": [
    "def hello(func):\n",
    "    func()\n",
    "\n",
    "def greet():\n",
    "    print('still here!')\n",
    "\n",
    "a = hello(greet)\n",
    "\n",
    "print(a)"
   ]
  },
  {
   "cell_type": "markdown",
   "id": "8fcc0aec-db9a-471c-8b6d-1c8194622ca3",
   "metadata": {},
   "source": [
    "### Higher Order Functions"
   ]
  },
  {
   "cell_type": "code",
   "execution_count": 6,
   "id": "0a9c5e12-ebc1-4f40-b61d-be1945108fea",
   "metadata": {},
   "outputs": [],
   "source": [
    "def greet(func):\n",
    "    func()\n",
    "\n",
    "def greet2():\n",
    "    def func():\n",
    "        return 5\n",
    "    return func"
   ]
  },
  {
   "cell_type": "markdown",
   "id": "ad075269-8417-4aa7-a425-360c12da365b",
   "metadata": {},
   "source": [
    "### Decorators"
   ]
  },
  {
   "cell_type": "code",
   "execution_count": 11,
   "id": "5d5e34f9-9814-43c3-a5c2-bd27b0508350",
   "metadata": {},
   "outputs": [
    {
     "name": "stdout",
     "output_type": "stream",
     "text": [
      "**********\n",
      "helllooooo\n",
      "**********\n",
      "**********\n",
      "see ya later\n",
      "**********\n"
     ]
    }
   ],
   "source": [
    "def my_decorator(func):\n",
    "    def wrap_func():\n",
    "        print('**********')\n",
    "        func()\n",
    "        print('**********')\n",
    "    return wrap_func\n",
    "\n",
    "@my_decorator\n",
    "def hello():\n",
    "    print('helllooooo')\n",
    "@my_decorator\n",
    "def bye():\n",
    "    print('see ya later')\n",
    "    \n",
    "hello()\n",
    "bye()"
   ]
  },
  {
   "cell_type": "code",
   "execution_count": 13,
   "id": "17610c64-2053-4fed-b1d7-a206529c490b",
   "metadata": {},
   "outputs": [
    {
     "name": "stdout",
     "output_type": "stream",
     "text": [
      "**********\n",
      "hiiii :)\n",
      "**********\n"
     ]
    }
   ],
   "source": [
    "def my_decorator(func):\n",
    "    def wrap_func(x, y):\n",
    "        print('**********')\n",
    "        func(x, y)\n",
    "        print('**********')\n",
    "    return wrap_func\n",
    "\n",
    "@my_decorator\n",
    "def hello(greeting, emoji):\n",
    "    print(greeting, emoji)\n",
    "    \n",
    "hello('hiiii', ':)')"
   ]
  },
  {
   "cell_type": "code",
   "execution_count": 16,
   "id": "62642beb-bef8-4c96-89c2-2987860e78bf",
   "metadata": {},
   "outputs": [
    {
     "name": "stdout",
     "output_type": "stream",
     "text": [
      "**********\n",
      "hiiii :(\n",
      "**********\n"
     ]
    }
   ],
   "source": [
    "def my_decorator(func):\n",
    "    def wrap_func(*args, **kwargs):\n",
    "        print('**********')\n",
    "        func(*args, **kwargs)\n",
    "        print('**********')\n",
    "    return wrap_func\n",
    "\n",
    "@my_decorator\n",
    "def hello(greeting, emoji=':('):\n",
    "    print(greeting, emoji)\n",
    "    \n",
    "hello('hiiii')"
   ]
  },
  {
   "cell_type": "markdown",
   "id": "905a76eb-624b-477c-a0c9-d06b9546d27e",
   "metadata": {},
   "source": [
    "### Why Do We Need Decorators"
   ]
  },
  {
   "cell_type": "code",
   "execution_count": 25,
   "id": "d6752ce8-ebe3-43ef-97cb-721eac7279ea",
   "metadata": {},
   "outputs": [
    {
     "name": "stdout",
     "output_type": "stream",
     "text": [
      "took 3.7920327186584473 s\n"
     ]
    }
   ],
   "source": [
    "from time import time\n",
    "\n",
    "def performance(fn):\n",
    "    def wrapper(*args, **kwargs):\n",
    "        t1 = time()\n",
    "        result = fn(*args, **kwargs)\n",
    "        t2 = time()\n",
    "        print(f'took {t2 - t1} s')\n",
    "        return result\n",
    "    return wrapper\n",
    "\n",
    "@performance\n",
    "def long_time():\n",
    "    for i in range(100000000):\n",
    "        i * 5\n",
    "\n",
    "long_time()"
   ]
  },
  {
   "cell_type": "markdown",
   "id": "094ac8f1-7df0-4c1f-8587-a6d67a33157c",
   "metadata": {},
   "source": [
    "### Exercise @authenticated"
   ]
  },
  {
   "cell_type": "raw",
   "id": "b3483ae5-5ed3-4539-bb66-34f0228d2ba3",
   "metadata": {},
   "source": [
    "Create an @authenticated decorator that only allows the function to run if user1 has 'valid' set to True:\n",
    "user1 = {\n",
    "    'name': 'Sorna',\n",
    "    'valid': True #changing this will either run or not run the message_friends function.\n",
    "}\n",
    "\n",
    "def authenticated(fn):\n",
    "  # code here\n",
    "\n",
    "@authenticated\n",
    "def message_friends(user):\n",
    "    print('message has been sent')\n",
    "\n",
    "message_friends(user1)"
   ]
  },
  {
   "cell_type": "code",
   "execution_count": 1,
   "id": "871c93ed-47be-4ee9-aed8-d93aae850931",
   "metadata": {},
   "outputs": [
    {
     "name": "stdout",
     "output_type": "stream",
     "text": [
      "message has been sent\n"
     ]
    }
   ],
   "source": [
    "user1 = {\n",
    "    'name': 'Sorna',\n",
    "    'valid': True\n",
    "}\n",
    "\n",
    "def authenticated(fn):\n",
    "  def wrapper(*args, **kwargs):\n",
    "    if args[0]['valid']:\n",
    "        return fn(*args, **kwargs)\n",
    "  return wrapper\n",
    "\n",
    "@authenticated\n",
    "def message_friends(user):\n",
    "    print('message has been sent')\n",
    "\n",
    "message_friends(user1)"
   ]
  }
 ],
 "metadata": {
  "kernelspec": {
   "display_name": "Python 3 (ipykernel)",
   "language": "python",
   "name": "python3"
  },
  "language_info": {
   "codemirror_mode": {
    "name": "ipython",
    "version": 3
   },
   "file_extension": ".py",
   "mimetype": "text/x-python",
   "name": "python",
   "nbconvert_exporter": "python",
   "pygments_lexer": "ipython3",
   "version": "3.11.4"
  }
 },
 "nbformat": 4,
 "nbformat_minor": 5
}
