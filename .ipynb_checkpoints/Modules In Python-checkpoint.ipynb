{
 "cells": [
  {
   "cell_type": "markdown",
   "id": "769e1477-a638-4e51-a198-3f9fcbe6e58e",
   "metadata": {},
   "source": [
    "### Modules In Python"
   ]
  },
  {
   "cell_type": "code",
   "execution_count": 4,
   "id": "9aa409c0-0612-4658-ac64-3cfe34f21fa9",
   "metadata": {},
   "outputs": [
    {
     "name": "stdout",
     "output_type": "stream",
     "text": [
      "<module 'utility' from 'D:\\\\Une\\\\Python\\\\Jupyter\\\\utility.py'>\n",
      "6\n",
      "1.0\n"
     ]
    }
   ],
   "source": [
    "import utility\n",
    "\n",
    "print(utility)\n",
    "print(utility.multiply(2, 3))\n",
    "print(utility.divide(2, 3))"
   ]
  },
  {
   "cell_type": "markdown",
   "id": "4b541a3e-b2a6-4917-a770-edde1039ec8e",
   "metadata": {},
   "source": [
    "### Packages In Python"
   ]
  },
  {
   "cell_type": "code",
   "execution_count": 6,
   "id": "bcdaab9a-ee17-49ec-9f7f-f8c0db12c005",
   "metadata": {},
   "outputs": [
    {
     "name": "stdout",
     "output_type": "stream",
     "text": [
      "<module 'shopping.shopping_cart' from 'D:\\\\Une\\\\Python\\\\Jupyter\\\\shopping\\\\shopping_cart.py'>\n",
      "['apple']\n"
     ]
    }
   ],
   "source": [
    "import shopping.shopping_cart\n",
    "\n",
    "print(shopping.shopping_cart)\n",
    "print(shopping.shopping_cart.buy('apple'))"
   ]
  },
  {
   "cell_type": "markdown",
   "id": "862f7927-9e2d-451e-bf67-d3274440702a",
   "metadata": {},
   "source": [
    "### Useful Modules"
   ]
  },
  {
   "cell_type": "markdown",
   "id": "c0c4b906-00b7-42ec-9a63-8450e614632e",
   "metadata": {},
   "source": [
    "Specialized Data Types"
   ]
  },
  {
   "cell_type": "code",
   "execution_count": 8,
   "id": "37b3635d-faaf-441d-a279-61ab2a1912f7",
   "metadata": {},
   "outputs": [
    {
     "name": "stdout",
     "output_type": "stream",
     "text": [
      "Counter({7: 2, 1: 1, 2: 1, 3: 1, 4: 1, 5: 1, 6: 1})\n",
      "Counter({'h': 5, ' ': 5, 'b': 4, 'a': 4, 'l': 3, 't': 3, 'n': 3, 'i': 2, 'o': 2, 'k': 1, 'g': 1, 'u': 1, 'p': 1, 'y': 1})\n"
     ]
    }
   ],
   "source": [
    "from collections import Counter, defaultdict, OrderedDict\n",
    "\n",
    "li = [1, 2, 3, 4, 5, 6, 7, 7]\n",
    "sentence = 'blah blah blah thinking about python'\n",
    "\n",
    "print(Counter(li))\n",
    "print(Counter(sentence))"
   ]
  },
  {
   "cell_type": "code",
   "execution_count": 16,
   "id": "24044670-82bd-43a0-810a-bf8c4837e598",
   "metadata": {},
   "outputs": [
    {
     "name": "stdout",
     "output_type": "stream",
     "text": [
      "does not exist\n",
      "0\n"
     ]
    }
   ],
   "source": [
    "dictionary = defaultdict(lambda: 'does not exist', {'a':1, 'b':2})\n",
    "\n",
    "print(dictionary['c'])\n",
    "print(int())"
   ]
  },
  {
   "cell_type": "code",
   "execution_count": 19,
   "id": "e0185221-69b0-4b8e-b988-b312017f8be8",
   "metadata": {},
   "outputs": [
    {
     "name": "stdout",
     "output_type": "stream",
     "text": [
      "True\n"
     ]
    }
   ],
   "source": [
    "d = {'c': 100}\n",
    "d['a'] = 1\n",
    "d['b'] = 2\n",
    "\n",
    "d2 = {'c': 100}\n",
    "d2['b'] = 2\n",
    "d2['a'] = 1\n",
    "\n",
    "print(d2 == d)"
   ]
  },
  {
   "cell_type": "code",
   "execution_count": 20,
   "id": "abb8f39b-6e29-4eb5-99d6-ea0eca254a9c",
   "metadata": {},
   "outputs": [
    {
     "name": "stdout",
     "output_type": "stream",
     "text": [
      "False\n"
     ]
    }
   ],
   "source": [
    "d = OrderedDict()\n",
    "d['a'] = 1\n",
    "d['b'] = 2\n",
    "\n",
    "d2 = OrderedDict()\n",
    "d2['b'] = 2\n",
    "d2['a'] = 1\n",
    "\n",
    "print(d2 == d)"
   ]
  },
  {
   "cell_type": "code",
   "execution_count": 24,
   "id": "ffcdd2c0-f6e5-40de-b8c4-29fd3200116f",
   "metadata": {},
   "outputs": [
    {
     "name": "stdout",
     "output_type": "stream",
     "text": [
      "00:00:00\n",
      "05:45:02\n",
      "2023-06-08\n"
     ]
    }
   ],
   "source": [
    "import datetime\n",
    "\n",
    "print(datetime.time())\n",
    "print(datetime.time(5, 45, 2))\n",
    "print(datetime.date.today())"
   ]
  },
  {
   "cell_type": "code",
   "execution_count": 25,
   "id": "871bf874-c9f3-43da-a10c-7a6b16fa8448",
   "metadata": {},
   "outputs": [
    {
     "name": "stdout",
     "output_type": "stream",
     "text": [
      "1\n"
     ]
    }
   ],
   "source": [
    "from array import array\n",
    "\n",
    "arr = array('i', [1, 2, 3])\n",
    "\n",
    "print(arr[0])"
   ]
  }
 ],
 "metadata": {
  "kernelspec": {
   "display_name": "Python 3 (ipykernel)",
   "language": "python",
   "name": "python3"
  },
  "language_info": {
   "codemirror_mode": {
    "name": "ipython",
    "version": 3
   },
   "file_extension": ".py",
   "mimetype": "text/x-python",
   "name": "python",
   "nbconvert_exporter": "python",
   "pygments_lexer": "ipython3",
   "version": "3.11.4"
  }
 },
 "nbformat": 4,
 "nbformat_minor": 5
}
