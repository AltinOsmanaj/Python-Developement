{
 "cells": [
  {
   "cell_type": "markdown",
   "id": "48383e6c-6aed-4ee8-baa3-e8d4843b5471",
   "metadata": {},
   "source": [
    "### Conditional Logic"
   ]
  },
  {
   "cell_type": "code",
   "execution_count": 9,
   "id": "17328289-9be8-44bc-b2ef-78a5adbeaff9",
   "metadata": {},
   "outputs": [
    {
     "name": "stdout",
     "output_type": "stream",
     "text": [
      "You are old enough to drive!\n"
     ]
    }
   ],
   "source": [
    "is_old = True\n",
    "\n",
    "if is_old:\n",
    "    print('You are old enough to drive!')\n",
    "else:\n",
    "    print('You are not of age!')"
   ]
  },
  {
   "cell_type": "code",
   "execution_count": 11,
   "id": "edaddd8f-7092-4ffa-96d3-e516ff865897",
   "metadata": {},
   "outputs": [
    {
     "name": "stdout",
     "output_type": "stream",
     "text": [
      "You can drive now!\n",
      "okok\n"
     ]
    }
   ],
   "source": [
    "is_old = False\n",
    "is_licenced = True\n",
    "\n",
    "if is_old:\n",
    "    print('You are old enough to drive!')\n",
    "elif is_licenced:\n",
    "    print('You can drive now!')\n",
    "else:\n",
    "    print('You are not of age!')\n",
    "    \n",
    "print('okok')"
   ]
  },
  {
   "cell_type": "code",
   "execution_count": 15,
   "id": "34fb9843-302b-4f3c-9e6f-a6b9035a69d3",
   "metadata": {},
   "outputs": [
    {
     "name": "stdout",
     "output_type": "stream",
     "text": [
      "You are old enough to drive, and you have a licence!\n",
      "okok\n"
     ]
    }
   ],
   "source": [
    "is_old = True\n",
    "is_licenced = True\n",
    "\n",
    "if is_old and is_licenced:\n",
    "    print('You are old enough to drive, and you have a licence!')\n",
    "else:\n",
    "    print('You are not of age!')\n",
    "    \n",
    "print('okok')"
   ]
  },
  {
   "cell_type": "markdown",
   "id": "2ee9dabd-b445-4dad-a001-d6038b44fe96",
   "metadata": {},
   "source": [
    "### Ternary Operator"
   ]
  },
  {
   "cell_type": "markdown",
   "id": "c99e44e0-547d-48aa-9a20-789f5777e19f",
   "metadata": {},
   "source": [
    "condition_if_true if condition else condition_if_false"
   ]
  },
  {
   "cell_type": "code",
   "execution_count": 19,
   "id": "2e45a08e-f485-4b9a-8ce9-79a82098febe",
   "metadata": {},
   "outputs": [
    {
     "name": "stdout",
     "output_type": "stream",
     "text": [
      "message allowed\n"
     ]
    }
   ],
   "source": [
    "is_friend = True\n",
    "can_message = 'message allowed' if is_friend else 'not allowed to message'\n",
    "\n",
    "print(can_message)"
   ]
  },
  {
   "cell_type": "markdown",
   "id": "37422dfe-ec0f-4150-a9d9-49c89011bda7",
   "metadata": {},
   "source": [
    "### Short Circuiting"
   ]
  },
  {
   "cell_type": "code",
   "execution_count": 24,
   "id": "dc476d37-cc94-4b45-8542-80a9e181eea1",
   "metadata": {},
   "outputs": [
    {
     "name": "stdout",
     "output_type": "stream",
     "text": [
      "best friends forever\n"
     ]
    }
   ],
   "source": [
    "is_Friend = True\n",
    "is_User = False\n",
    "\n",
    "if is_Friend or is_User:\n",
    "    print('best friends forever')"
   ]
  },
  {
   "cell_type": "code",
   "execution_count": 25,
   "id": "d3ebbd11-30fb-4063-bb13-2b7aa3fbee44",
   "metadata": {},
   "outputs": [],
   "source": [
    "is_Friend = False\n",
    "is_User = True\n",
    "\n",
    "if is_Friend and is_User:\n",
    "    print('best friends forever')"
   ]
  },
  {
   "cell_type": "markdown",
   "id": "551d99a4-bb55-4084-85a4-2b1c8d874438",
   "metadata": {},
   "source": [
    "### Logical Operators"
   ]
  },
  {
   "cell_type": "raw",
   "id": "300d4bad-2e72-4734-9653-8926c7df4bdf",
   "metadata": {},
   "source": [
    "<\n",
    ">\n",
    "==\n",
    ">=\n",
    "<=\n",
    "!=\n",
    "and \n",
    "or\n",
    "not"
   ]
  },
  {
   "cell_type": "code",
   "execution_count": 16,
   "id": "9884aee9-1ad1-4a2f-a0c9-340766f442fd",
   "metadata": {},
   "outputs": [
    {
     "name": "stdout",
     "output_type": "stream",
     "text": [
      "False\n",
      "True\n",
      "False\n",
      "True\n",
      "False\n",
      "False\n",
      "True\n",
      "False\n",
      "True\n",
      "False\n",
      "True\n",
      "False\n",
      "False\n"
     ]
    }
   ],
   "source": [
    "print(4 > 5)\n",
    "print(4 < 5)\n",
    "print(4 == 5)\n",
    "print('hello' == 'hello')\n",
    "print('a' > 'b')\n",
    "print('A' > 'a')\n",
    "print(1 < 2 < 3 < 4)\n",
    "print(1 < 2 > 3 < 4)\n",
    "print(1 >= 0)\n",
    "print(1 <= 0)\n",
    "print(0 != 1)\n",
    "print(not(True))\n",
    "print(not(1 == 1))"
   ]
  },
  {
   "cell_type": "markdown",
   "id": "e0b2452f-65a2-4d2b-b174-1b8f8a8270cb",
   "metadata": {},
   "source": [
    "### Exercise Logical Operators"
   ]
  },
  {
   "cell_type": "code",
   "execution_count": 9,
   "id": "4f5bca10-0122-42d8-ba2b-a6d1f6fec944",
   "metadata": {},
   "outputs": [
    {
     "name": "stdout",
     "output_type": "stream",
     "text": [
      "At least you're getting there\n"
     ]
    }
   ],
   "source": [
    "is_magician = True\n",
    "is_expert = False\n",
    "\n",
    "#check if magician AND expert: \"You are a master magician\"\n",
    "if is_expert and is_magician:\n",
    "     print('You are a master magician')\n",
    "#check if magician but not expert: \"At least you're getting there\"\n",
    "elif is_magician and not is_expert:\n",
    "    print('At least you\\'re getting there')\n",
    "#if you're not a magician: \"You need magic powers\"\n",
    "elif not is_magician:\n",
    "    print('You need magic powers')"
   ]
  },
  {
   "cell_type": "markdown",
   "id": "85a13b0a-69a9-4ed6-8887-e341430125fb",
   "metadata": {},
   "source": [
    "### is vs =="
   ]
  },
  {
   "cell_type": "code",
   "execution_count": 13,
   "id": "75fa5440-af49-4397-be0b-84913fe57a57",
   "metadata": {},
   "outputs": [
    {
     "name": "stdout",
     "output_type": "stream",
     "text": [
      "True\n",
      "False\n",
      "False\n",
      "True\n",
      "True\n"
     ]
    }
   ],
   "source": [
    "print(True == 1)\n",
    "print('' == 1)\n",
    "print([] == 1)\n",
    "print(10 == 10.0)\n",
    "print([1, 2, 3] == [1, 2, 3])"
   ]
  },
  {
   "cell_type": "code",
   "execution_count": 15,
   "id": "a4b44f4f-dd81-4400-99b2-25eaf1bc06c5",
   "metadata": {},
   "outputs": [
    {
     "name": "stdout",
     "output_type": "stream",
     "text": [
      "False\n",
      "False\n",
      "False\n",
      "False\n",
      "False\n"
     ]
    },
    {
     "name": "stderr",
     "output_type": "stream",
     "text": [
      "<>:1: SyntaxWarning: \"is\" with a literal. Did you mean \"==\"?\n",
      "<>:2: SyntaxWarning: \"is\" with a literal. Did you mean \"==\"?\n",
      "<>:3: SyntaxWarning: \"is\" with a literal. Did you mean \"==\"?\n",
      "<>:4: SyntaxWarning: \"is\" with a literal. Did you mean \"==\"?\n",
      "<>:1: SyntaxWarning: \"is\" with a literal. Did you mean \"==\"?\n",
      "<>:2: SyntaxWarning: \"is\" with a literal. Did you mean \"==\"?\n",
      "<>:3: SyntaxWarning: \"is\" with a literal. Did you mean \"==\"?\n",
      "<>:4: SyntaxWarning: \"is\" with a literal. Did you mean \"==\"?\n",
      "C:\\Users\\PC\\AppData\\Local\\Temp\\ipykernel_7116\\2375804707.py:1: SyntaxWarning: \"is\" with a literal. Did you mean \"==\"?\n",
      "  print(True is 1)\n",
      "C:\\Users\\PC\\AppData\\Local\\Temp\\ipykernel_7116\\2375804707.py:2: SyntaxWarning: \"is\" with a literal. Did you mean \"==\"?\n",
      "  print('1' is 1)\n",
      "C:\\Users\\PC\\AppData\\Local\\Temp\\ipykernel_7116\\2375804707.py:3: SyntaxWarning: \"is\" with a literal. Did you mean \"==\"?\n",
      "  print([] is 1)\n",
      "C:\\Users\\PC\\AppData\\Local\\Temp\\ipykernel_7116\\2375804707.py:4: SyntaxWarning: \"is\" with a literal. Did you mean \"==\"?\n",
      "  print(10 is 10.0)\n"
     ]
    }
   ],
   "source": [
    "print(True is 1)\n",
    "print('1' is 1)\n",
    "print([] is 1)\n",
    "print(10 is 10.0)\n",
    "print([1, 2, 3] is [1, 2, 3])"
   ]
  },
  {
   "cell_type": "raw",
   "id": "c3be1285-dbba-4bd5-823e-6360179553e2",
   "metadata": {},
   "source": [
    "== -> checks for equality in values\n",
    "is -> checks if the location in momory where the values are stored is the same"
   ]
  },
  {
   "cell_type": "code",
   "execution_count": 19,
   "id": "595a1c87-9a33-41dd-9638-466a49f68b5e",
   "metadata": {},
   "outputs": [
    {
     "name": "stdout",
     "output_type": "stream",
     "text": [
      "True\n",
      "True\n",
      "False\n",
      "True\n",
      "False\n",
      "True\n"
     ]
    },
    {
     "name": "stderr",
     "output_type": "stream",
     "text": [
      "<>:2: SyntaxWarning: \"is\" with a literal. Did you mean \"==\"?\n",
      "<>:4: SyntaxWarning: \"is\" with a literal. Did you mean \"==\"?\n",
      "<>:2: SyntaxWarning: \"is\" with a literal. Did you mean \"==\"?\n",
      "<>:4: SyntaxWarning: \"is\" with a literal. Did you mean \"==\"?\n",
      "C:\\Users\\PC\\AppData\\Local\\Temp\\ipykernel_7116\\336975878.py:2: SyntaxWarning: \"is\" with a literal. Did you mean \"==\"?\n",
      "  print('1' is '1')\n",
      "C:\\Users\\PC\\AppData\\Local\\Temp\\ipykernel_7116\\336975878.py:4: SyntaxWarning: \"is\" with a literal. Did you mean \"==\"?\n",
      "  print(10 is 10)\n"
     ]
    }
   ],
   "source": [
    "print(True is True)\n",
    "print('1' is '1')\n",
    "print([] is [])\n",
    "print(10 is 10)\n",
    "a = [1, 2, 3]\n",
    "b = [1, 2, 3]\n",
    "print(a is b)\n",
    "print(a is a)"
   ]
  },
  {
   "cell_type": "markdown",
   "id": "6399f1e4-59ff-479e-b900-0b0d56bac366",
   "metadata": {},
   "source": [
    "### For Loops"
   ]
  },
  {
   "cell_type": "code",
   "execution_count": 20,
   "id": "66d4c6dd-82af-4911-b3dc-4387e5e02fe8",
   "metadata": {},
   "outputs": [
    {
     "name": "stdout",
     "output_type": "stream",
     "text": [
      "Z\n",
      "e\n",
      "r\n",
      "o\n",
      " \n",
      "t\n",
      "o\n",
      " \n",
      "M\n",
      "a\n",
      "s\n",
      "t\n",
      "e\n",
      "r\n",
      "y\n"
     ]
    }
   ],
   "source": [
    "for item in 'Zero to Mastery':\n",
    "    print(item)"
   ]
  },
  {
   "cell_type": "code",
   "execution_count": 21,
   "id": "b9716364-6e48-407a-bb69-afb2e436b95a",
   "metadata": {},
   "outputs": [
    {
     "name": "stdout",
     "output_type": "stream",
     "text": [
      "1\n",
      "2\n",
      "3\n",
      "4\n",
      "5\n"
     ]
    }
   ],
   "source": [
    "for item in [1, 2, 3, 4, 5]:\n",
    "    print(item)"
   ]
  },
  {
   "cell_type": "code",
   "execution_count": 22,
   "id": "0b095697-db4b-44d5-a167-97e9ce9c1fce",
   "metadata": {},
   "outputs": [
    {
     "name": "stdout",
     "output_type": "stream",
     "text": [
      "1\n",
      "2\n",
      "3\n",
      "4\n",
      "5\n"
     ]
    }
   ],
   "source": [
    "for item in {1, 2, 3, 4, 5}:\n",
    "    print(item)"
   ]
  },
  {
   "cell_type": "code",
   "execution_count": 25,
   "id": "4ccdae74-872e-466f-a98f-79ba18a69bbf",
   "metadata": {},
   "outputs": [
    {
     "name": "stdout",
     "output_type": "stream",
     "text": [
      "1\n",
      "2\n",
      "3\n",
      "4\n",
      "5\n",
      "5\n",
      "hi!\n"
     ]
    }
   ],
   "source": [
    "for item in (1, 2, 3, 4, 5):\n",
    "    print(item)\n",
    "print(item)\n",
    "print('hi!')"
   ]
  },
  {
   "cell_type": "code",
   "execution_count": 28,
   "id": "be70efc8-8c4b-4272-8cf9-0bfa7e198981",
   "metadata": {},
   "outputs": [
    {
     "name": "stdout",
     "output_type": "stream",
     "text": [
      "1 a\n",
      "1 b\n",
      "1 c\n",
      "2 a\n",
      "2 b\n",
      "2 c\n",
      "3 a\n",
      "3 b\n",
      "3 c\n",
      "4 a\n",
      "4 b\n",
      "4 c\n",
      "5 a\n",
      "5 b\n",
      "5 c\n"
     ]
    }
   ],
   "source": [
    "for item in (1, 2, 3, 4, 5):\n",
    "    for x in ['a', 'b', 'c']:\n",
    "        print(item, x)"
   ]
  },
  {
   "cell_type": "markdown",
   "id": "7deb4c82-3bd6-4438-8973-a46406ce31f4",
   "metadata": {},
   "source": [
    "### Iterables"
   ]
  },
  {
   "cell_type": "raw",
   "id": "7e177793-11d2-4942-a7f3-1adef0d4ff06",
   "metadata": {},
   "source": [
    "list, \n",
    "dictionary,\n",
    "tuple,\n",
    "set,\n",
    "string"
   ]
  },
  {
   "cell_type": "markdown",
   "id": "2416f6ee-ee9c-48b8-9d23-92a03dc51864",
   "metadata": {},
   "source": [
    "Iterate -> one by one check each item in the collection"
   ]
  },
  {
   "cell_type": "code",
   "execution_count": 37,
   "id": "97d7057a-b59c-4615-90eb-20b7a0b0878b",
   "metadata": {},
   "outputs": [
    {
     "name": "stdout",
     "output_type": "stream",
     "text": [
      "('name', 'Golem')\n",
      "('age', 5006)\n",
      "('can_swim', False)\n",
      "name Golem\n",
      "age 5006\n",
      "can_swim False\n",
      "name Golem\n",
      "age 5006\n",
      "can_swim False\n",
      "Golem\n",
      "5006\n",
      "False\n",
      "name\n",
      "age\n",
      "can_swim\n"
     ]
    }
   ],
   "source": [
    "user = {\n",
    "    'name' : 'Golem',\n",
    "    'age' : 5006,\n",
    "    'can_swim' : False\n",
    "}\n",
    "\n",
    "for item in user.items(): \n",
    "    print(item)\n",
    "\n",
    "for item in user.items():\n",
    "    key, value = item\n",
    "    print(key, value)\n",
    "\n",
    "for key, value in user.items():\n",
    "    print(key, value)\n",
    "    \n",
    "for item in user.values():\n",
    "    print(item)\n",
    "\n",
    "for item in user.keys():\n",
    "    print(item)"
   ]
  },
  {
   "cell_type": "markdown",
   "id": "3073dd6f-9a9c-4876-83d6-59ddef2b3032",
   "metadata": {},
   "source": [
    "### Exercise Tricky Counter"
   ]
  },
  {
   "cell_type": "code",
   "execution_count": 38,
   "id": "c73e82ef-619b-4cdc-8aa7-0c582868e006",
   "metadata": {},
   "outputs": [
    {
     "name": "stdout",
     "output_type": "stream",
     "text": [
      "55\n"
     ]
    }
   ],
   "source": [
    "my_list = [1, 2, 3, 4, 5, 6, 7, 8, 9, 10]\n",
    "\n",
    "counter = 0\n",
    "for item in my_list:\n",
    "    counter = counter + item\n",
    "\n",
    "print(counter)"
   ]
  },
  {
   "cell_type": "markdown",
   "id": "ea2d1694-42b9-4497-9fdc-cfdff35b6442",
   "metadata": {},
   "source": [
    "### range()"
   ]
  },
  {
   "cell_type": "code",
   "execution_count": 40,
   "id": "5221b9ef-586a-441f-88a6-e4678437f0a0",
   "metadata": {},
   "outputs": [
    {
     "name": "stdout",
     "output_type": "stream",
     "text": [
      "range(0, 100)\n",
      "range(0, 100)\n"
     ]
    }
   ],
   "source": [
    "print(range(100))\n",
    "print(range(0, 100))"
   ]
  },
  {
   "cell_type": "code",
   "execution_count": 42,
   "id": "45f6c5a2-6bef-4e44-8bb0-385ce6d2a101",
   "metadata": {},
   "outputs": [
    {
     "name": "stdout",
     "output_type": "stream",
     "text": [
      "0\n",
      "1\n",
      "2\n",
      "3\n",
      "4\n",
      "5\n",
      "6\n",
      "7\n",
      "8\n",
      "9\n"
     ]
    }
   ],
   "source": [
    "for number in range(0, 10):\n",
    "    print(number)"
   ]
  },
  {
   "cell_type": "code",
   "execution_count": 43,
   "id": "3a891752-36fe-4907-bd13-e0be4018f55e",
   "metadata": {},
   "outputs": [
    {
     "name": "stdout",
     "output_type": "stream",
     "text": [
      "email email list\n",
      "email email list\n",
      "email email list\n",
      "email email list\n",
      "email email list\n",
      "email email list\n",
      "email email list\n",
      "email email list\n",
      "email email list\n",
      "email email list\n"
     ]
    }
   ],
   "source": [
    "for number in range(0, 10):\n",
    "    print('email email list')"
   ]
  },
  {
   "cell_type": "code",
   "execution_count": 44,
   "id": "abeac476-5b18-4cd7-8bfd-bbb8ce569253",
   "metadata": {},
   "outputs": [
    {
     "name": "stdout",
     "output_type": "stream",
     "text": [
      "0\n",
      "2\n",
      "4\n",
      "6\n",
      "8\n"
     ]
    }
   ],
   "source": [
    "for _ in range(0, 10, 2):\n",
    "    print(_)"
   ]
  },
  {
   "cell_type": "code",
   "execution_count": 49,
   "id": "fbcaeff5-bbc3-4ff6-b13d-eb7c2256a766",
   "metadata": {},
   "outputs": [
    {
     "name": "stdout",
     "output_type": "stream",
     "text": [
      "10\n",
      "8\n",
      "6\n",
      "4\n",
      "2\n"
     ]
    }
   ],
   "source": [
    "for _ in range(10, 0, -2):\n",
    "    print(_)"
   ]
  },
  {
   "cell_type": "code",
   "execution_count": 50,
   "id": "ffcc3d2a-a45e-4ce3-8b7e-0546525dded2",
   "metadata": {},
   "outputs": [
    {
     "name": "stdout",
     "output_type": "stream",
     "text": [
      "[0, 1, 2, 3, 4, 5, 6, 7, 8, 9]\n",
      "[0, 1, 2, 3, 4, 5, 6, 7, 8, 9]\n"
     ]
    }
   ],
   "source": [
    "for _ in range(2):\n",
    "    print(list(range(10)))"
   ]
  },
  {
   "cell_type": "markdown",
   "id": "84892160-60c8-4832-ab3c-0c5147bf5ac5",
   "metadata": {},
   "source": [
    "### Enumerate"
   ]
  },
  {
   "cell_type": "code",
   "execution_count": 52,
   "id": "d8a3850d-0e14-40d3-8071-3a8405fd236f",
   "metadata": {},
   "outputs": [
    {
     "name": "stdout",
     "output_type": "stream",
     "text": [
      "0 H\n",
      "1 e\n",
      "2 l\n",
      "3 l\n",
      "4 l\n",
      "5 o\n",
      "6 o\n",
      "7 o\n"
     ]
    }
   ],
   "source": [
    "for i, char in enumerate('Helllooo'):\n",
    "    print(i, char)"
   ]
  },
  {
   "cell_type": "code",
   "execution_count": 53,
   "id": "3b81cce5-3b83-49b2-b613-823c6b04fcad",
   "metadata": {},
   "outputs": [
    {
     "name": "stdout",
     "output_type": "stream",
     "text": [
      "0 1\n",
      "1 2\n",
      "2 3\n"
     ]
    }
   ],
   "source": [
    "for i, num in enumerate([1, 2, 3]):\n",
    "    print(i, num)"
   ]
  },
  {
   "cell_type": "code",
   "execution_count": 54,
   "id": "328efaf7-6200-4459-af3e-6d0d0dc763b7",
   "metadata": {},
   "outputs": [
    {
     "name": "stdout",
     "output_type": "stream",
     "text": [
      "0 1\n",
      "1 2\n",
      "2 3\n"
     ]
    }
   ],
   "source": [
    "for i, num in enumerate((1, 2, 3)):\n",
    "    print(i,num)"
   ]
  },
  {
   "cell_type": "code",
   "execution_count": 57,
   "id": "79ea9784-bee1-4f6a-b4b7-1ff4f8dda044",
   "metadata": {},
   "outputs": [
    {
     "name": "stdout",
     "output_type": "stream",
     "text": [
      "index of 50 is: 50\n"
     ]
    }
   ],
   "source": [
    "for i, num in enumerate(list(range(100))):\n",
    "    if num == 50:\n",
    "        print(f'index of 50 is: {i}')"
   ]
  },
  {
   "cell_type": "markdown",
   "id": "2fcc233b-6eb4-4487-bd03-dc05f4b5b49d",
   "metadata": {},
   "source": [
    "### While Loops"
   ]
  },
  {
   "cell_type": "code",
   "execution_count": 58,
   "id": "38b1d3c9-1ba0-4faa-95e6-27584f2d6970",
   "metadata": {},
   "outputs": [
    {
     "name": "stdout",
     "output_type": "stream",
     "text": [
      "0\n"
     ]
    }
   ],
   "source": [
    "i = 0\n",
    "while 0 < 50:\n",
    "    print(i)\n",
    "    break"
   ]
  },
  {
   "cell_type": "code",
   "execution_count": 60,
   "id": "9e90fb6b-89c8-4e14-bd0e-58340069247a",
   "metadata": {},
   "outputs": [
    {
     "name": "stdout",
     "output_type": "stream",
     "text": [
      "0\n",
      "1\n",
      "2\n",
      "3\n",
      "4\n",
      "5\n",
      "6\n",
      "7\n",
      "8\n",
      "9\n"
     ]
    }
   ],
   "source": [
    "i = 0\n",
    "while i < 10:\n",
    "    print(i)\n",
    "    i += 1"
   ]
  },
  {
   "cell_type": "code",
   "execution_count": 61,
   "id": "503abd15-a315-4db1-b234-67f5f3299367",
   "metadata": {},
   "outputs": [
    {
     "name": "stdout",
     "output_type": "stream",
     "text": [
      "0\n",
      "1\n",
      "2\n",
      "3\n",
      "4\n",
      "Done with all the work\n"
     ]
    }
   ],
   "source": [
    "i = 0 \n",
    "while i < 5:\n",
    "    print(i)\n",
    "    i += 1\n",
    "else:\n",
    "    print('Done with all the work')"
   ]
  },
  {
   "cell_type": "code",
   "execution_count": 62,
   "id": "7c8f1a17-44b4-4aff-aea7-718875e0be75",
   "metadata": {},
   "outputs": [
    {
     "name": "stdout",
     "output_type": "stream",
     "text": [
      "0\n"
     ]
    }
   ],
   "source": [
    "i = 0 \n",
    "while i < 5:\n",
    "    print(i)\n",
    "    i += 1\n",
    "    break\n",
    "else:\n",
    "    print('Done with all the work')"
   ]
  },
  {
   "cell_type": "code",
   "execution_count": 64,
   "id": "c46d8b00-352e-4f10-b647-89f556b6ac77",
   "metadata": {},
   "outputs": [
    {
     "name": "stdout",
     "output_type": "stream",
     "text": [
      "1\n",
      "2\n",
      "3\n",
      "1\n",
      "2\n",
      "3\n"
     ]
    }
   ],
   "source": [
    "my_list = [1, 2, 3]\n",
    "for item in my_list:\n",
    "    print(item)\n",
    "\n",
    "i = 0\n",
    "while i < len(my_list):\n",
    "    print(my_list[i])\n",
    "    i += 1"
   ]
  },
  {
   "cell_type": "code",
   "execution_count": null,
   "id": "445f3800-c9ad-4f41-a304-3861d5756e69",
   "metadata": {},
   "outputs": [
    {
     "name": "stdin",
     "output_type": "stream",
     "text": [
      "Say something:  hi\n",
      "Say something:  hello\n",
      "Say something:  hi\n",
      "Say something:  bye\n"
     ]
    }
   ],
   "source": [
    "while True:\n",
    "    input('Say something: ')"
   ]
  },
  {
   "cell_type": "code",
   "execution_count": 2,
   "id": "4b3e6b33-0fab-447d-9afc-67158c5fefeb",
   "metadata": {},
   "outputs": [
    {
     "name": "stdin",
     "output_type": "stream",
     "text": [
      "Say something:  hi\n"
     ]
    }
   ],
   "source": [
    "while True:\n",
    "    input('Say something: ')\n",
    "    break"
   ]
  },
  {
   "cell_type": "code",
   "execution_count": 3,
   "id": "d4c64f08-5125-4343-bc4b-5739a014e487",
   "metadata": {},
   "outputs": [
    {
     "name": "stdin",
     "output_type": "stream",
     "text": [
      "Say something:  hi\n",
      "Say something:  hi\n",
      "Say something:  hi\n",
      "Say something:  bye\n"
     ]
    }
   ],
   "source": [
    "while True:\n",
    "    response = input('Say something: ')\n",
    "    if(response == 'bye'):\n",
    "        break"
   ]
  },
  {
   "cell_type": "markdown",
   "id": "75da075a-33f1-43b1-921c-4c7baaccaede",
   "metadata": {},
   "source": [
    "### break, continue, pass"
   ]
  },
  {
   "cell_type": "code",
   "execution_count": 6,
   "id": "e93c5452-a387-4646-bef4-0b62eeddcef0",
   "metadata": {},
   "outputs": [
    {
     "name": "stdout",
     "output_type": "stream",
     "text": [
      "1\n"
     ]
    }
   ],
   "source": [
    "my_list = [1, 2, 3]\n",
    "for item in my_list:\n",
    "    print(item)\n",
    "    break"
   ]
  },
  {
   "cell_type": "code",
   "execution_count": 11,
   "id": "916fb140-1011-47cd-b9e7-bf5014f0240a",
   "metadata": {},
   "outputs": [
    {
     "name": "stdout",
     "output_type": "stream",
     "text": [
      "1\n",
      "2\n",
      "3\n",
      "1\n",
      "2\n",
      "3\n"
     ]
    }
   ],
   "source": [
    "my_list = [1, 2, 3]\n",
    "for item in my_list:\n",
    "    print(item)\n",
    "    continue\n",
    "    \n",
    "i = 0\n",
    "while i< len(my_list):\n",
    "    print(my_list[i])\n",
    "    i += 1\n",
    "    continue"
   ]
  },
  {
   "cell_type": "markdown",
   "id": "b68c3dd6-8a02-4026-b933-d03521c84b9e",
   "metadata": {},
   "source": [
    "Pass doesn't do absolutely anything it just essentially pass to the next line"
   ]
  },
  {
   "cell_type": "code",
   "execution_count": 15,
   "id": "04d27346-c2c2-4586-ac1f-4dc1c91416d1",
   "metadata": {},
   "outputs": [
    {
     "name": "stdout",
     "output_type": "stream",
     "text": [
      "1\n",
      "2\n",
      "3\n"
     ]
    }
   ],
   "source": [
    "my_list = [1, 2, 3]\n",
    "for item in my_list:\n",
    "    #thinking about it\n",
    "    pass\n",
    "\n",
    "i = 0\n",
    "while i< len(my_list):\n",
    "    print(my_list[i])\n",
    "    i += 1"
   ]
  },
  {
   "cell_type": "markdown",
   "id": "de9311ff-d670-41f4-a4d9-8073fe22e5bd",
   "metadata": {},
   "source": [
    "### Our First GUI"
   ]
  },
  {
   "cell_type": "code",
   "execution_count": 25,
   "id": "fd5ddab4-5d66-4b84-a20f-4cc84fcb5641",
   "metadata": {},
   "outputs": [
    {
     "name": "stdout",
     "output_type": "stream",
     "text": [
      "   *   \n",
      "  ***  \n",
      " ***** \n",
      "*******\n",
      "   *   \n",
      "   *   \n"
     ]
    }
   ],
   "source": [
    "#Exercise!\n",
    "picture = [\n",
    "    [0, 0, 0, 1, 0, 0, 0],\n",
    "    [0, 0, 1, 1, 1, 0, 0],\n",
    "    [0, 1, 1, 1, 1, 1, 0],\n",
    "    [1, 1, 1, 1, 1, 1, 1],\n",
    "    [0, 0, 0, 1, 0, 0, 0],\n",
    "    [0, 0, 0, 1, 0, 0, 0]\n",
    "]\n",
    "\n",
    "#1 Iterate over picture\n",
    "    # if 0 -> print ''\n",
    "    # if 1 -> print *\n",
    "    \n",
    "for row in picture:\n",
    "    for pixel in row:\n",
    "        if (pixel == 1):\n",
    "            print('*', end='')\n",
    "        else:\n",
    "            print(' ', end='')\n",
    "    print('')"
   ]
  },
  {
   "cell_type": "markdown",
   "id": "012ad2f7-953c-41c1-aaa0-a3e47f9daaa0",
   "metadata": {},
   "source": [
    "### Developer Fundamentals"
   ]
  },
  {
   "cell_type": "raw",
   "id": "2145fe7c-b3a7-47fd-8592-5fa136476c4b",
   "metadata": {},
   "source": [
    "clean\n",
    "readability\n",
    "predictability\n",
    "DRY (Don't Repeat Yourself)"
   ]
  },
  {
   "cell_type": "code",
   "execution_count": 39,
   "id": "e143f9d5-3946-4a94-a137-014393409e65",
   "metadata": {},
   "outputs": [
    {
     "name": "stdout",
     "output_type": "stream",
     "text": [
      "   $   \n",
      "  $$$  \n",
      " $$$$$ \n",
      "$$$$$$$\n",
      "   $   \n",
      "   $   \n"
     ]
    }
   ],
   "source": [
    "#Exercise!\n",
    "picture = [\n",
    "    [0, 0, 0, 1, 0, 0, 0],\n",
    "    [0, 0, 1, 1, 1, 0, 0],\n",
    "    [0, 1, 1, 1, 1, 1, 0],\n",
    "    [1, 1, 1, 1, 1, 1, 1],\n",
    "    [0, 0, 0, 1, 0, 0, 0],\n",
    "    [0, 0, 0, 1, 0, 0, 0]\n",
    "]\n",
    "\n",
    "#1 Iterate over picture\n",
    "    # if 0 -> print ''\n",
    "    # if 1 -> print *\n",
    "\n",
    "fill = '$'\n",
    "empty = ' '\n",
    "for row in picture:\n",
    "    for pixel in row:\n",
    "        if (pixel):\n",
    "            print(fill, end='')\n",
    "        else:\n",
    "            print(empty, end='')\n",
    "    print('') #need a new line after every row"
   ]
  },
  {
   "cell_type": "markdown",
   "id": "792659b2-5562-4cb8-82a9-ca5d7ef5b31a",
   "metadata": {},
   "source": [
    "### Exercise Find Duplicates"
   ]
  },
  {
   "cell_type": "code",
   "execution_count": 40,
   "id": "8caabec7-0b68-4c2d-a70c-ef569b0b153b",
   "metadata": {},
   "outputs": [
    {
     "name": "stdout",
     "output_type": "stream",
     "text": [
      "['b', 'n']\n"
     ]
    }
   ],
   "source": [
    "#Exercise: Check for duplicates in list:\n",
    "some_list = ['a', 'b', 'c', 'b', 'd', 'm', 'n', 'n']\n",
    "\n",
    "duplicates = []\n",
    "for value in some_list:\n",
    "    if some_list.count(value) > 1:\n",
    "        if value not in duplicates:\n",
    "            duplicates.append(value)\n",
    "\n",
    "print(duplicates)"
   ]
  },
  {
   "cell_type": "markdown",
   "id": "75ff4d36-65a6-45ab-9554-ab94f68c0883",
   "metadata": {},
   "source": [
    "### Functions"
   ]
  },
  {
   "cell_type": "code",
   "execution_count": 41,
   "id": "12a1bc33-357e-4fed-be0f-f4a7e72e0f4c",
   "metadata": {},
   "outputs": [
    {
     "name": "stdout",
     "output_type": "stream",
     "text": [
      "hellllooooo\n"
     ]
    }
   ],
   "source": [
    "#DRY\n",
    "def say_hello():\n",
    "    print('hellllooooo')\n",
    "\n",
    "say_hello()"
   ]
  },
  {
   "cell_type": "code",
   "execution_count": 43,
   "id": "d254bc5d-4559-49a4-87f8-ac5fd6ed1858",
   "metadata": {},
   "outputs": [
    {
     "name": "stdout",
     "output_type": "stream",
     "text": [
      "   *   \n",
      "  ***  \n",
      " ***** \n",
      "*******\n",
      "   *   \n",
      "   *   \n",
      "   *   \n",
      "  ***  \n",
      " ***** \n",
      "*******\n",
      "   *   \n",
      "   *   \n",
      "   *   \n",
      "  ***  \n",
      " ***** \n",
      "*******\n",
      "   *   \n",
      "   *   \n"
     ]
    }
   ],
   "source": [
    "picture = [\n",
    "    [0, 0, 0, 1, 0, 0, 0],\n",
    "    [0, 0, 1, 1, 1, 0, 0],\n",
    "    [0, 1, 1, 1, 1, 1, 0],\n",
    "    [1, 1, 1, 1, 1, 1, 1],\n",
    "    [0, 0, 0, 1, 0, 0, 0],\n",
    "    [0, 0, 0, 1, 0, 0, 0]\n",
    "]\n",
    "\n",
    "def show_tree():\n",
    "    for row in picture:\n",
    "        for pixel in row:\n",
    "            if (pixel == 1):\n",
    "                print('*', end='')\n",
    "            else:\n",
    "                print(' ', end='')\n",
    "        print('')\n",
    "\n",
    "show_tree()\n",
    "show_tree()\n",
    "show_tree()"
   ]
  },
  {
   "cell_type": "code",
   "execution_count": 44,
   "id": "9bc25d7b-80e5-4f94-befa-b10078ac8721",
   "metadata": {},
   "outputs": [
    {
     "name": "stdout",
     "output_type": "stream",
     "text": [
      "<function show_tree at 0x0000015BD0712940>\n"
     ]
    }
   ],
   "source": [
    "print(show_tree)"
   ]
  },
  {
   "cell_type": "markdown",
   "id": "24026436-a8d2-4c01-9c7c-e4dc5b3ddc1d",
   "metadata": {},
   "source": [
    "### Parameters and Arguments"
   ]
  },
  {
   "cell_type": "code",
   "execution_count": 47,
   "id": "e97edaad-a0f4-4a73-bc21-247b980e3ae1",
   "metadata": {},
   "outputs": [
    {
     "name": "stdout",
     "output_type": "stream",
     "text": [
      "hellllooooo Altin😀\n",
      "hellllooooo Dan😀\n",
      "hellllooooo Emily😀\n"
     ]
    }
   ],
   "source": [
    "#parameters\n",
    "def say_hello(name, emoji):\n",
    "    print(f'hellllooooo {name}{emoji}')\n",
    "\n",
    "#arguments\n",
    "say_hello('Altin', '😀')\n",
    "say_hello('Dan' , '😀')\n",
    "say_hello('Emily', '😀')"
   ]
  },
  {
   "cell_type": "markdown",
   "id": "01d258d6-ed05-4e4c-87b7-d52a42f1098d",
   "metadata": {},
   "source": [
    "### Default Parameters and Keyword Arguments"
   ]
  },
  {
   "cell_type": "code",
   "execution_count": 50,
   "id": "9db9068f-4da9-4a8a-8689-7b95e11186dc",
   "metadata": {},
   "outputs": [],
   "source": [
    "#default parameters\n",
    "def say_hello(name='Darth Vader', emoji='👿'):\n",
    "    print(f'hellllooooo {name}{emoji}')"
   ]
  },
  {
   "cell_type": "code",
   "execution_count": 55,
   "id": "10c07e19-2f6f-4a4a-969d-1430a62c3917",
   "metadata": {},
   "outputs": [
    {
     "name": "stdout",
     "output_type": "stream",
     "text": [
      "hellllooooo Darth Vader👿\n",
      "hellllooooo Timmy👿\n"
     ]
    }
   ],
   "source": [
    "say_hello()\n",
    "say_hello('Timmy')"
   ]
  },
  {
   "cell_type": "code",
   "execution_count": 56,
   "id": "3257a6d4-4713-4f54-a794-2548d747a021",
   "metadata": {},
   "outputs": [
    {
     "name": "stdout",
     "output_type": "stream",
     "text": [
      "hellllooooo Bibi😀\n"
     ]
    }
   ],
   "source": [
    "#keyword arguments\n",
    "say_hello(emoji='😀', name='Bibi')"
   ]
  },
  {
   "cell_type": "markdown",
   "id": "e02f6113-0e25-410b-ac71-6a4fdd7d1b46",
   "metadata": {},
   "source": [
    "### return"
   ]
  },
  {
   "cell_type": "code",
   "execution_count": 67,
   "id": "ec220f48-59fe-4336-a6c8-372ce57520e6",
   "metadata": {},
   "outputs": [
    {
     "name": "stdout",
     "output_type": "stream",
     "text": [
      "15\n",
      "25\n"
     ]
    }
   ],
   "source": [
    "def sum(num1, num2):\n",
    "    return num1 + num2\n",
    "\n",
    "print(sum(10, 5))\n",
    "\n",
    "total = sum(10, 5)\n",
    "print(sum(10, total))"
   ]
  },
  {
   "cell_type": "raw",
   "id": "a49a3853-3aa5-46b9-9eb0-94bfe4e6d640",
   "metadata": {},
   "source": [
    "Functions\n",
    "Should do one thing really well\n",
    "Should return something"
   ]
  },
  {
   "cell_type": "code",
   "execution_count": 71,
   "id": "e4e1b8db-6272-49ca-af00-433bdf671197",
   "metadata": {},
   "outputs": [
    {
     "name": "stdout",
     "output_type": "stream",
     "text": [
      "30\n"
     ]
    }
   ],
   "source": [
    "def sum(num1, num2):\n",
    "    def another_func(n1, n2):\n",
    "        return num1 + n2\n",
    "    return another_func(num1, num2)\n",
    "\n",
    "total = sum(10, 20)\n",
    "print(total)"
   ]
  },
  {
   "cell_type": "markdown",
   "id": "4bd46521-3192-438b-9546-0cefc7a3b50e",
   "metadata": {},
   "source": [
    "### Exercise Tesla"
   ]
  },
  {
   "cell_type": "raw",
   "id": "b3208702-05b1-4f77-b53b-0d9af1071c61",
   "metadata": {},
   "source": [
    "age = input(\"What is your age?: \")\n",
    "\n",
    "if int(age) < 18:\n",
    "\tprint(\"Sorry, you are too young to drive this car. Powering off\")\n",
    "elif int(age) > 18:\n",
    "\tprint(\"Powering On. Enjoy the ride!\");\n",
    "elif int(age) == 18:\n",
    "\tprint(\"Congratulations on your first year of driving. Enjoy the ride!\")\n",
    "\n",
    "1. Wrap the above code in a function called checkDriverAge(). Whenever you call this function, you will get prompted for age. \n",
    "Notice the benefit in having checkDriverAge() instead of copying and pasting the function everytime?\n",
    "\n",
    "2 Instead of using the input(). Now, make the checkDriverAge() function accept an argument of age, so that if you enter:\n",
    "checkDriverAge(92);\n",
    "it returns \"Powering On. Enjoy the ride!\"\n",
    "also make it so that the default age is set to 0 if no argument is given."
   ]
  },
  {
   "cell_type": "code",
   "execution_count": 1,
   "id": "52613ab1-d8ee-438d-89e6-321b0e5fe757",
   "metadata": {},
   "outputs": [
    {
     "name": "stdin",
     "output_type": "stream",
     "text": [
      "What is your age?:  21\n"
     ]
    },
    {
     "name": "stdout",
     "output_type": "stream",
     "text": [
      "Powering On. Enjoy the ride!\n"
     ]
    }
   ],
   "source": [
    "#1\n",
    "def checkDriverAge():\n",
    "    age = input(\"What is your age?: \")\n",
    "    if int(age) < 18:\n",
    "        print(\"Sorry, you are too young to drive this car. Powering off\")\n",
    "    elif int(age) > 18:\n",
    "        print(\"Powering On. Enjoy the ride!\");\n",
    "    elif int(age) == 18:\n",
    "        print(\"Congratulations on your first year of driving. Enjoy the ride!\")\n",
    "checkDriverAge()"
   ]
  },
  {
   "cell_type": "code",
   "execution_count": 4,
   "id": "0f5d35d8-16d7-4274-8155-933a3dd4e350",
   "metadata": {},
   "outputs": [
    {
     "name": "stdout",
     "output_type": "stream",
     "text": [
      "Powering On. Enjoy the ride!\n"
     ]
    }
   ],
   "source": [
    "#2\n",
    "def checkDriverAge(age=0):\n",
    "    if int(age) < 18:\n",
    "        print(\"Sorry, you are too young to drive this car. Powering off\")\n",
    "    elif int(age) > 18:\n",
    "        print(\"Powering On. Enjoy the ride!\");\n",
    "    elif int(age) == 18:\n",
    "        print(\"Congratulations on your first year of driving. Enjoy the ride!\")\n",
    "checkDriverAge(92)"
   ]
  },
  {
   "cell_type": "markdown",
   "id": "771a435e-200e-46cc-b90e-395a52535285",
   "metadata": {},
   "source": [
    "### Methods vs Functions"
   ]
  },
  {
   "cell_type": "raw",
   "id": "8cc1629a-d9f6-4291-8f31-47084f4183ad",
   "metadata": {},
   "source": [
    "list()\n",
    "print()\n",
    "max()\n",
    "min()\n",
    "input()"
   ]
  },
  {
   "cell_type": "code",
   "execution_count": 6,
   "id": "f4d27726-de3b-496e-8cac-05db0683d522",
   "metadata": {},
   "outputs": [],
   "source": [
    "def some_random_stuff():\n",
    "    pass\n",
    "\n",
    "some_random_stuff()"
   ]
  },
  {
   "cell_type": "code",
   "execution_count": 7,
   "id": "dc28ad72-27b8-4f08-9290-212161c02f93",
   "metadata": {},
   "outputs": [
    {
     "data": {
      "text/plain": [
       "'Helllooo'"
      ]
     },
     "execution_count": 7,
     "metadata": {},
     "output_type": "execute_result"
    }
   ],
   "source": [
    "'helllooo'.capitalize()"
   ]
  },
  {
   "cell_type": "markdown",
   "id": "4db41372-ba7a-4706-b29e-74792c072a43",
   "metadata": {},
   "source": [
    "### Docstrings"
   ]
  },
  {
   "cell_type": "code",
   "execution_count": 11,
   "id": "f2c6fb51-246a-4e5a-a138-a567ea5d4453",
   "metadata": {},
   "outputs": [
    {
     "name": "stdout",
     "output_type": "stream",
     "text": [
      "Help on function test in module __main__:\n",
      "\n",
      "test(a)\n",
      "    Info: this function tests and prints param a\n",
      "\n",
      "\n",
      "    Info: this function tests and prints param a\n",
      "    \n"
     ]
    }
   ],
   "source": [
    "def test(a):\n",
    "    '''\n",
    "    Info: this function tests and prints param a\n",
    "    '''\n",
    "    print(a)\n",
    "\n",
    "help(test)\n",
    "print(test.__doc__)"
   ]
  },
  {
   "cell_type": "markdown",
   "id": "d65f39b9-21a6-4fbf-abcc-3309ee6c8d09",
   "metadata": {},
   "source": [
    "### Clean Code"
   ]
  },
  {
   "cell_type": "code",
   "execution_count": 13,
   "id": "f8e1f90d-bf7c-4d8c-99d1-43fef576869b",
   "metadata": {},
   "outputs": [
    {
     "name": "stdout",
     "output_type": "stream",
     "text": [
      "True\n"
     ]
    }
   ],
   "source": [
    "def is_even(num):\n",
    "    if num % 2 == 0:\n",
    "        return True\n",
    "    elif num % 2 != 0:\n",
    "        return False\n",
    "    \n",
    "print(is_even(50))"
   ]
  },
  {
   "cell_type": "code",
   "execution_count": 14,
   "id": "650c48ac-70ba-4b0b-b405-d2dd666554bd",
   "metadata": {},
   "outputs": [
    {
     "name": "stdout",
     "output_type": "stream",
     "text": [
      "False\n"
     ]
    }
   ],
   "source": [
    "def is_even(num):\n",
    "    if num % 2 == 0:\n",
    "        return True\n",
    "    return False\n",
    "\n",
    "print(is_even(51))"
   ]
  },
  {
   "cell_type": "code",
   "execution_count": 15,
   "id": "4abe335b-6c07-4e85-a969-b9ee19a4415e",
   "metadata": {},
   "outputs": [
    {
     "name": "stdout",
     "output_type": "stream",
     "text": [
      "True\n"
     ]
    }
   ],
   "source": [
    "def is_even(num):\n",
    "    return num % 2 == 0\n",
    "\n",
    "print(is_even(50))"
   ]
  },
  {
   "cell_type": "markdown",
   "id": "ca3fe744-c947-443e-87b7-acd8bfd9195c",
   "metadata": {},
   "source": [
    "### *args and **kwargs"
   ]
  },
  {
   "cell_type": "code",
   "execution_count": 19,
   "id": "fe86cee3-f365-41cd-b987-7be4577a6bcf",
   "metadata": {},
   "outputs": [
    {
     "name": "stdout",
     "output_type": "stream",
     "text": [
      "1 2 3 4 5\n",
      "(1, 2, 3, 4, 5)\n"
     ]
    },
    {
     "data": {
      "text/plain": [
       "15"
      ]
     },
     "execution_count": 19,
     "metadata": {},
     "output_type": "execute_result"
    }
   ],
   "source": [
    "def super_func(*args):\n",
    "    print(*args)\n",
    "    print(args)\n",
    "    return sum(args)\n",
    "\n",
    "super_func(1, 2, 3, 4, 5)"
   ]
  },
  {
   "cell_type": "code",
   "execution_count": 20,
   "id": "225ea166-6882-4c14-9cc5-b34cd4ad85ab",
   "metadata": {},
   "outputs": [
    {
     "name": "stdout",
     "output_type": "stream",
     "text": [
      "30\n"
     ]
    }
   ],
   "source": [
    "def super_func(*args, **kwargs):\n",
    "    total = 0\n",
    "    for items in kwargs.values():\n",
    "        total += items\n",
    "    return sum(args) + total\n",
    "\n",
    "print(super_func(1, 2, 3, 4, 5, num1=5, num2=10))"
   ]
  },
  {
   "cell_type": "raw",
   "id": "4d1f2cfb-f8e3-41ed-97fb-c4dbf50270fd",
   "metadata": {},
   "source": [
    "Rule: param, *args, default parameters, **kwargs\n",
    "\n",
    "Example: def super_func(name, *args, i='hi', **kwargs):"
   ]
  },
  {
   "cell_type": "markdown",
   "id": "3f12f7ea-7222-439e-b941-b55334941257",
   "metadata": {},
   "source": [
    "### Exercise Function"
   ]
  },
  {
   "cell_type": "code",
   "execution_count": 22,
   "id": "58b3931d-a0f1-471b-8fed-4eaa2d7952b8",
   "metadata": {},
   "outputs": [
    {
     "name": "stdout",
     "output_type": "stream",
     "text": [
      "10\n"
     ]
    }
   ],
   "source": [
    "def highest_even(li):\n",
    "    evens = []\n",
    "    for item in li:\n",
    "        if item % 2 == 0:\n",
    "            evens.append(item)\n",
    "    return max(evens)\n",
    "\n",
    "print(highest_even([10, 2, 3, 4, 8, 11]))"
   ]
  },
  {
   "cell_type": "markdown",
   "id": "7b780f17-082a-4ba1-b0af-17766cb0be70",
   "metadata": {},
   "source": [
    "### Walrus Operator"
   ]
  },
  {
   "cell_type": "code",
   "execution_count": 25,
   "id": "01e6f3aa-88c7-45e1-93fd-2029138965e7",
   "metadata": {},
   "outputs": [
    {
     "name": "stdout",
     "output_type": "stream",
     "text": [
      "too long 16 elements\n"
     ]
    }
   ],
   "source": [
    "a = 'helloooooooooooo'\n",
    "\n",
    "if (len(a) > 10):\n",
    "    print(f'too long {len(a)} elements')"
   ]
  },
  {
   "cell_type": "code",
   "execution_count": 26,
   "id": "e6efff8a-a682-404b-881d-774f8eccf16f",
   "metadata": {},
   "outputs": [
    {
     "name": "stdout",
     "output_type": "stream",
     "text": [
      "too long 16 elements\n"
     ]
    }
   ],
   "source": [
    "a = 'helloooooooooooo'\n",
    "\n",
    "if ((n := len(a)) > 10):\n",
    "    print(f'too long {n} elements')"
   ]
  },
  {
   "cell_type": "code",
   "execution_count": 3,
   "id": "88c8cba4-01e0-4b2b-8e35-70bbd07b8000",
   "metadata": {},
   "outputs": [
    {
     "name": "stdout",
     "output_type": "stream",
     "text": [
      "16\n",
      "15\n",
      "14\n",
      "13\n",
      "12\n",
      "11\n",
      "10\n",
      "9\n",
      "8\n",
      "7\n",
      "6\n",
      "5\n",
      "4\n",
      "3\n",
      "2\n",
      "h\n"
     ]
    }
   ],
   "source": [
    "a = 'helloooooooooooo'\n",
    "\n",
    "while ((n := len(a)) > 1):\n",
    "    print(n)\n",
    "    a = a[:-1]\n",
    "\n",
    "print(a)"
   ]
  },
  {
   "cell_type": "markdown",
   "id": "cfa0d90d-e6a2-4a72-bb2b-b1cc58dfe288",
   "metadata": {},
   "source": [
    "### Scope"
   ]
  },
  {
   "cell_type": "raw",
   "id": "8acec8cc-a496-46dc-82fa-c386f1f86a90",
   "metadata": {},
   "source": [
    "Scope - what variables do I have access to?"
   ]
  },
  {
   "cell_type": "code",
   "execution_count": 8,
   "id": "18b9e2a3-2bfc-4014-8119-01692091edba",
   "metadata": {},
   "outputs": [
    {
     "name": "stdout",
     "output_type": "stream",
     "text": [
      "10\n"
     ]
    }
   ],
   "source": [
    "if True:\n",
    "    x = 10\n",
    "\n",
    "def some_func():\n",
    "    total = 100\n",
    "    \n",
    "print(x)"
   ]
  },
  {
   "cell_type": "markdown",
   "id": "02a5cfa6-5406-417b-8eff-a46b3eb43390",
   "metadata": {},
   "source": [
    "### Scope Rules"
   ]
  },
  {
   "cell_type": "code",
   "execution_count": 10,
   "id": "2219137b-4da9-4eec-b60e-9e05a0fdeb12",
   "metadata": {},
   "outputs": [
    {
     "name": "stdout",
     "output_type": "stream",
     "text": [
      "1\n",
      "5\n"
     ]
    }
   ],
   "source": [
    "a = 1\n",
    "\n",
    "def confusion():\n",
    "    a = 5\n",
    "    return a\n",
    "\n",
    "print(a)\n",
    "print(confusion())"
   ]
  },
  {
   "cell_type": "code",
   "execution_count": 13,
   "id": "feb2a85b-b4fb-46a5-bdcd-5974e5095979",
   "metadata": {},
   "outputs": [
    {
     "name": "stdout",
     "output_type": "stream",
     "text": [
      "10\n",
      "1\n"
     ]
    }
   ],
   "source": [
    "a = 1 \n",
    "def parent():\n",
    "    a = 10\n",
    "    def confusion():\n",
    "        return a\n",
    "    return confusion()\n",
    "\n",
    "print(parent())\n",
    "print(a)"
   ]
  },
  {
   "cell_type": "markdown",
   "id": "f4d99d52-86e8-40f7-a122-bf3a5fd4ca12",
   "metadata": {},
   "source": [
    "1. Start with local (part of a local function)\n",
    "2. Parent local\n",
    "3. Global\n",
    "4. Built in python functions"
   ]
  },
  {
   "cell_type": "code",
   "execution_count": 16,
   "id": "20934d3b-8862-4267-9212-98e6fabf8c49",
   "metadata": {},
   "outputs": [
    {
     "name": "stdout",
     "output_type": "stream",
     "text": [
      "<built-in function sum>\n",
      "1\n"
     ]
    }
   ],
   "source": [
    "a = 1\n",
    "def parent():\n",
    "    def confusion():\n",
    "        return sum\n",
    "    return confusion()\n",
    "\n",
    "print(parent())\n",
    "print(a)"
   ]
  },
  {
   "cell_type": "markdown",
   "id": "be744cf7-81ca-493a-a8b4-a78aeca51740",
   "metadata": {},
   "source": [
    "### Global Keyword"
   ]
  },
  {
   "cell_type": "code",
   "execution_count": 22,
   "id": "70981816-5dbd-43da-8c12-59b56eab4f27",
   "metadata": {},
   "outputs": [
    {
     "name": "stdout",
     "output_type": "stream",
     "text": [
      "3\n"
     ]
    }
   ],
   "source": [
    "total = 0\n",
    "\n",
    "def count():\n",
    "    global total\n",
    "    total += 1\n",
    "    return total\n",
    "\n",
    "count()\n",
    "count()\n",
    "print(count())"
   ]
  },
  {
   "cell_type": "code",
   "execution_count": 24,
   "id": "bdb35dfd-f907-4521-a86a-9dc129a8d7e5",
   "metadata": {},
   "outputs": [
    {
     "name": "stdout",
     "output_type": "stream",
     "text": [
      "3\n"
     ]
    }
   ],
   "source": [
    "total = 0\n",
    "\n",
    "def count(total):\n",
    "    total += 1\n",
    "    return total\n",
    "\n",
    "print(count(count(count(total))))"
   ]
  },
  {
   "cell_type": "markdown",
   "id": "41421fbe-8aab-47f1-9732-ccf8355c0881",
   "metadata": {},
   "source": [
    "### Nonlocal Keyword"
   ]
  },
  {
   "cell_type": "code",
   "execution_count": 27,
   "id": "cd220582-191e-44eb-b52a-6aeda306092e",
   "metadata": {},
   "outputs": [
    {
     "name": "stdout",
     "output_type": "stream",
     "text": [
      "inner: nonlocal\n",
      "outer: nonlocal\n"
     ]
    }
   ],
   "source": [
    "def outer():\n",
    "    x = 'local'\n",
    "    def inner():\n",
    "        nonlocal x\n",
    "        x= 'nonlocal'\n",
    "        print('inner:', x)\n",
    "    \n",
    "    inner()\n",
    "    print('outer:', x)\n",
    "\n",
    "outer()"
   ]
  },
  {
   "cell_type": "code",
   "execution_count": 28,
   "id": "8f9193f8-e1d5-4954-acd3-c6ee50ca43da",
   "metadata": {},
   "outputs": [
    {
     "name": "stdout",
     "output_type": "stream",
     "text": [
      "inner: nonlocal\n",
      "outer: local\n"
     ]
    }
   ],
   "source": [
    "def outer():\n",
    "    x = 'local'\n",
    "    def inner():\n",
    "        x= 'nonlocal'\n",
    "        print('inner:', x)\n",
    "    \n",
    "    inner()\n",
    "    print('outer:', x)\n",
    "\n",
    "outer()"
   ]
  }
 ],
 "metadata": {
  "kernelspec": {
   "display_name": "Python 3 (ipykernel)",
   "language": "python",
   "name": "python3"
  },
  "language_info": {
   "codemirror_mode": {
    "name": "ipython",
    "version": 3
   },
   "file_extension": ".py",
   "mimetype": "text/x-python",
   "name": "python",
   "nbconvert_exporter": "python",
   "pygments_lexer": "ipython3",
   "version": "3.11.4"
  }
 },
 "nbformat": 4,
 "nbformat_minor": 5
}
