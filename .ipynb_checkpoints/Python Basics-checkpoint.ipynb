{
 "cells": [
  {
   "cell_type": "markdown",
   "id": "5a35ffed-5ee6-403e-a07e-a3eb4ce8dd95",
   "metadata": {},
   "source": [
    "### Python Data Types"
   ]
  },
  {
   "cell_type": "markdown",
   "id": "8bcbd984-ee0b-4318-b248-5d82532c675b",
   "metadata": {},
   "source": [
    "### Fundamental data types"
   ]
  },
  {
   "cell_type": "raw",
   "id": "06faa2a0-947f-4188-95c2-9ebc66fae711",
   "metadata": {},
   "source": [
    "int\n",
    "float\n",
    "bool\n",
    "str\n",
    "list\n",
    "tuple\n",
    "set\n",
    "dict\n",
    "\n",
    "Classes -> Custom data types\n",
    "Specialized data types\n",
    "None"
   ]
  },
  {
   "cell_type": "markdown",
   "id": "d5b09fa3-5e2c-470d-b66e-b1ccf2e3294b",
   "metadata": {},
   "source": [
    "### Numbers"
   ]
  },
  {
   "cell_type": "markdown",
   "id": "977f2fb3-e8a8-4fa3-8ef1-46e7974fff04",
   "metadata": {},
   "source": [
    "### int and float"
   ]
  },
  {
   "cell_type": "code",
   "execution_count": 3,
   "id": "9b42f53d-9656-43ba-be80-6d62326f1560",
   "metadata": {},
   "outputs": [
    {
     "name": "stdout",
     "output_type": "stream",
     "text": [
      "<class 'int'>\n",
      "<class 'int'>\n",
      "<class 'int'>\n",
      "<class 'float'>\n",
      "<class 'float'>\n",
      "<class 'int'>\n",
      "<class 'float'>\n",
      "<class 'float'>\n"
     ]
    }
   ],
   "source": [
    "print(type(2 + 4))\n",
    "print(type(2 - 4))\n",
    "print(type(2 * 4))\n",
    "print(type(2 / 4))\n",
    "print(type(0.00001))\n",
    "print(type(0))\n",
    "print(type(20 + 1.1))\n",
    "print(type(9.9 + 1.1))"
   ]
  },
  {
   "cell_type": "code",
   "execution_count": 32,
   "id": "1cd8d27d-1819-46d7-a7f3-872704971fca",
   "metadata": {},
   "outputs": [
    {
     "name": "stdout",
     "output_type": "stream",
     "text": [
      "4\n",
      "8\n",
      "0\n",
      "0\n",
      "1\n",
      "1\n",
      "2\n"
     ]
    }
   ],
   "source": [
    "print(2 ** 2)\n",
    "print(2 ** 3)\n",
    "print(2 // 4)\n",
    "print(3 // 4)\n",
    "print(6 // 4)\n",
    "print(5 % 4)\n",
    "print(6 % 4)"
   ]
  },
  {
   "cell_type": "markdown",
   "id": "477f43b6-210a-4d88-bac1-1651cbccfeab",
   "metadata": {},
   "source": [
    "### Math Functions"
   ]
  },
  {
   "cell_type": "code",
   "execution_count": 33,
   "id": "748fcfba-12b9-41a1-9025-ba54f4071047",
   "metadata": {},
   "outputs": [
    {
     "name": "stdout",
     "output_type": "stream",
     "text": [
      "3\n",
      "20\n"
     ]
    }
   ],
   "source": [
    "print(round(3.1))\n",
    "print(abs(-20))"
   ]
  },
  {
   "cell_type": "markdown",
   "id": "4c13869e-db36-48ac-b31b-fbbfbab2f940",
   "metadata": {},
   "source": [
    "### Operator Precedence"
   ]
  },
  {
   "cell_type": "code",
   "execution_count": 35,
   "id": "78278d2e-e913-428a-a05f-2f5e44fde9a7",
   "metadata": {},
   "outputs": [
    {
     "name": "stdout",
     "output_type": "stream",
     "text": [
      "21\n"
     ]
    }
   ],
   "source": [
    "print((20 - 3) + 2 ** 2)"
   ]
  },
  {
   "cell_type": "raw",
   "id": "77f55219-fd0a-4505-8415-34a6c39ee5b7",
   "metadata": {},
   "source": [
    "1. ()\n",
    "2. **\n",
    "3. * /\n",
    "4. + -"
   ]
  },
  {
   "cell_type": "markdown",
   "id": "c547ee45-337a-44b1-97c4-7d3fcd1406d6",
   "metadata": {},
   "source": [
    "### bin() and complex"
   ]
  },
  {
   "cell_type": "code",
   "execution_count": 44,
   "id": "99b0fd2e-b1a9-48ce-b77b-ceca8c0d4b4d",
   "metadata": {},
   "outputs": [
    {
     "name": "stdout",
     "output_type": "stream",
     "text": [
      "0b101\n",
      "5\n"
     ]
    }
   ],
   "source": [
    "print(bin(5))\n",
    "print(int('0b101', 2))\n",
    "#complex -> for complex math operations, your might never use it"
   ]
  },
  {
   "cell_type": "markdown",
   "id": "865d67ca-7bad-47a9-8b88-8d7465ed07f7",
   "metadata": {},
   "source": [
    "### Variables"
   ]
  },
  {
   "cell_type": "raw",
   "id": "eee77bf2-c917-45b4-b5a8-41b2ec59778b",
   "metadata": {},
   "source": [
    "snake_case\n",
    "Start with lowercase or underscore\n",
    "Letters, numbers, underscore\n",
    "Case sensitive\n",
    "Don't overwrite keywordsr"
   ]
  },
  {
   "cell_type": "code",
   "execution_count": 52,
   "id": "b62bc5df-cc79-4619-b828-487dfa93c411",
   "metadata": {},
   "outputs": [
    {
     "name": "stdout",
     "output_type": "stream",
     "text": [
      "47.5\n"
     ]
    }
   ],
   "source": [
    "iq = 190\n",
    "user_age = iq / 4\n",
    "a = user_age\n",
    "\n",
    "print(a)"
   ]
  },
  {
   "cell_type": "code",
   "execution_count": 53,
   "id": "335f22f5-e0cf-4192-814b-2125c1f5224f",
   "metadata": {},
   "outputs": [],
   "source": [
    "#constants\n",
    "PI = 3.14"
   ]
  },
  {
   "cell_type": "code",
   "execution_count": 54,
   "id": "20566238-671f-461a-b959-5ddab2ebbddc",
   "metadata": {},
   "outputs": [
    {
     "name": "stdout",
     "output_type": "stream",
     "text": [
      "1\n",
      "2\n",
      "3\n"
     ]
    }
   ],
   "source": [
    "a, b, c = 1, 2, 3\n",
    "print(a)\n",
    "print(b)\n",
    "print(c)"
   ]
  },
  {
   "cell_type": "markdown",
   "id": "98cb2b01-0f05-4cd4-9ed5-48db9bbeb923",
   "metadata": {},
   "source": [
    "### Expressions vs Statements"
   ]
  },
  {
   "cell_type": "code",
   "execution_count": 55,
   "id": "328925ed-4886-4367-819d-8ca75f55bf31",
   "metadata": {},
   "outputs": [],
   "source": [
    "iq = 100\n",
    "user_age = iq / 5"
   ]
  },
  {
   "cell_type": "raw",
   "id": "b07d80be-9124-4b8a-b249-47a038a2a19a",
   "metadata": {},
   "source": [
    "iq / 5 is an expression\n",
    "user_age = iq / 5 is a statement"
   ]
  },
  {
   "cell_type": "markdown",
   "id": "88f0c292-cd61-445a-bda4-60cbc50f5da6",
   "metadata": {},
   "source": [
    "### Augmented Assignment Operator"
   ]
  },
  {
   "cell_type": "code",
   "execution_count": 59,
   "id": "69010e80-0095-4e32-b5dd-7921cde22df2",
   "metadata": {},
   "outputs": [
    {
     "name": "stdout",
     "output_type": "stream",
     "text": [
      "10\n"
     ]
    }
   ],
   "source": [
    "some_value = 5\n",
    "some_value += 2\n",
    "some_value -= 2\n",
    "some_value *= 2\n",
    "\n",
    "print(some_value)"
   ]
  },
  {
   "cell_type": "markdown",
   "id": "e3bdc64f-1a1e-487a-b7a9-1aaff6dc2ca0",
   "metadata": {},
   "source": [
    "### Strings"
   ]
  },
  {
   "cell_type": "code",
   "execution_count": 61,
   "id": "00e2e76a-e11b-47b5-9574-878d0884c6b5",
   "metadata": {},
   "outputs": [
    {
     "name": "stdout",
     "output_type": "stream",
     "text": [
      "<class 'str'>\n"
     ]
    }
   ],
   "source": [
    "print(type(\" hi hello there 24!\"))\n",
    "username = 'supercoder'\n",
    "password = 'supersecret'"
   ]
  },
  {
   "cell_type": "code",
   "execution_count": 63,
   "id": "ed825bbe-188a-4c27-8855-7cbed7812811",
   "metadata": {},
   "outputs": [
    {
     "name": "stdout",
     "output_type": "stream",
     "text": [
      "\n",
      "WOW\n",
      "O O\n",
      "---\n",
      "\n"
     ]
    }
   ],
   "source": [
    "long_string = '''\n",
    "WOW\n",
    "O O\n",
    "---\n",
    "'''\n",
    "print(long_string)"
   ]
  },
  {
   "cell_type": "code",
   "execution_count": 65,
   "id": "9d8dda3c-d38b-4ee2-a684-27e765053456",
   "metadata": {},
   "outputs": [
    {
     "name": "stdout",
     "output_type": "stream",
     "text": [
      "Altin Osmanaj\n"
     ]
    }
   ],
   "source": [
    "first_name = 'Altin'\n",
    "last_name = 'Osmanaj'\n",
    "full_name = first_name + ' ' + last_name\n",
    "print(full_name)"
   ]
  },
  {
   "cell_type": "markdown",
   "id": "e529878a-e5aa-4a72-bde2-98dc4a53b619",
   "metadata": {},
   "source": [
    "### Type Conversion"
   ]
  },
  {
   "cell_type": "code",
   "execution_count": 79,
   "id": "1a255cf0-bc8d-425f-b463-a5530525d46c",
   "metadata": {},
   "outputs": [
    {
     "name": "stdout",
     "output_type": "stream",
     "text": [
      "<class 'int'>\n",
      "<class 'int'>\n"
     ]
    }
   ],
   "source": [
    "a = str(100)\n",
    "b = int(a)\n",
    "c = type(b)\n",
    "print(c)\n",
    "print(type(int(str(100))))"
   ]
  },
  {
   "cell_type": "markdown",
   "id": "ca99f006-8f04-428c-8255-81d91a56f77a",
   "metadata": {},
   "source": [
    "### Escape Sequence"
   ]
  },
  {
   "cell_type": "code",
   "execution_count": 86,
   "id": "8e6ab61f-9a13-4476-9b94-a8a01e0c4dc7",
   "metadata": {},
   "outputs": [
    {
     "name": "stdout",
     "output_type": "stream",
     "text": [
      "\t It's \"kind of\" sunny \n",
      " hope you have a good day!\n"
     ]
    }
   ],
   "source": [
    "weather = \"\\t It\\'s \\\"kind of\\\" sunny \\n hope you have a good day!\"\n",
    "print(weather)"
   ]
  },
  {
   "cell_type": "markdown",
   "id": "38ab0c01-3a3d-44f7-aa59-5841ee4bab04",
   "metadata": {},
   "source": [
    "### Formatted Strings"
   ]
  },
  {
   "cell_type": "code",
   "execution_count": 97,
   "id": "71877efe-016d-4914-aaf6-d64cdcde02d4",
   "metadata": {},
   "outputs": [
    {
     "name": "stdout",
     "output_type": "stream",
     "text": [
      "hi Johnny. You are 55 years old\n",
      "hi Johnny. You are 55 years old\n",
      "hi 55. You are Johnny years old\n",
      "hi Sally. You are 100 years old\n"
     ]
    }
   ],
   "source": [
    "name = 'Johnny'\n",
    "age = 55\n",
    "\n",
    "print(f'hi {name}. You are {age} years old')\n",
    "print('hi {}. You are {} years old'.format(name, age))\n",
    "print('hi {1}. You are {0} years old'.format(name, age))\n",
    "print('hi {new_name}. You are {age} years old'.format(new_name='Sally', age = 100))"
   ]
  },
  {
   "cell_type": "markdown",
   "id": "6ad54009-d969-4700-b011-87f8597b4b5a",
   "metadata": {},
   "source": [
    "### String Indexes"
   ]
  },
  {
   "cell_type": "code",
   "execution_count": 113,
   "id": "eda4e130-1481-4eda-b01b-ad71ea61610a",
   "metadata": {},
   "outputs": [
    {
     "name": "stdout",
     "output_type": "stream",
     "text": [
      "0123456\n",
      "01234567\n",
      "0246\n",
      "1234567\n",
      "01234\n",
      "01234567\n",
      "7\n",
      "76543210\n",
      "7531\n"
     ]
    }
   ],
   "source": [
    "selfish = '01234567'\n",
    "        #  01234567\n",
    "\n",
    "#[start:stop:stepover]\n",
    "print(selfish[0:7])\n",
    "print(selfish[0:8:1])\n",
    "print(selfish[0:8:2])\n",
    "print(selfish[1:])\n",
    "print(selfish[:5])\n",
    "print(selfish[::1])\n",
    "print(selfish[-1])\n",
    "print(selfish[::-1])\n",
    "print(selfish[::-2])"
   ]
  },
  {
   "cell_type": "markdown",
   "id": "b689c47e-425f-437e-8b3c-bc20b986f04c",
   "metadata": {},
   "source": [
    "Strings are immutable, it means you can't reassign parts of a string"
   ]
  },
  {
   "cell_type": "markdown",
   "id": "736abb0a-76cd-4cc5-be89-8504f1c5bb3d",
   "metadata": {},
   "source": [
    "### Built-In Functions + Methods"
   ]
  },
  {
   "cell_type": "code",
   "execution_count": 118,
   "id": "e06c330d-a89e-4342-ad7b-fd90a1959830",
   "metadata": {},
   "outputs": [
    {
     "name": "stdout",
     "output_type": "stream",
     "text": [
      "9\n",
      "hellloooo\n"
     ]
    }
   ],
   "source": [
    "greet = 'hellloooo'\n",
    "print(len(greet))\n",
    "print(greet[0:len(greet)])"
   ]
  },
  {
   "cell_type": "markdown",
   "id": "e1faf756-3c19-4805-9461-e1a1fbc6ef88",
   "metadata": {},
   "source": [
    "The len() doesn't start counting from 0, it starts from 1"
   ]
  },
  {
   "cell_type": "code",
   "execution_count": 127,
   "id": "5480a0e0-b8f1-41a9-a1d8-b65188f91360",
   "metadata": {},
   "outputs": [
    {
     "name": "stdout",
     "output_type": "stream",
     "text": [
      "TO BE OR NOT TO BE\n",
      "To be or not to be\n",
      "to be or not to be\n",
      "3\n",
      "to me or not to me\n",
      "to be or not to be\n",
      "to me or not to me\n"
     ]
    }
   ],
   "source": [
    "quote = 'to be or not to be'\n",
    "print(quote.upper())\n",
    "print(quote.capitalize())\n",
    "print(quote.lower())\n",
    "print(quote.find('be'))\n",
    "print(quote.replace('be', 'me'))\n",
    "quote2 = quote.replace('be', 'me')\n",
    "print(quote)\n",
    "print(quote2)"
   ]
  },
  {
   "cell_type": "markdown",
   "id": "c64d2644-ef06-4d73-a7f4-8cdd2f52a78c",
   "metadata": {},
   "source": [
    "### Booleans"
   ]
  },
  {
   "cell_type": "markdown",
   "id": "352ba288-65d2-453b-9c64-d6ae5a818edf",
   "metadata": {},
   "source": [
    "A bool can either be True of False"
   ]
  },
  {
   "cell_type": "code",
   "execution_count": 128,
   "id": "e60a0ae9-245b-45f9-8574-96ea58d9c2f1",
   "metadata": {},
   "outputs": [],
   "source": [
    "name = 'Altin'\n",
    "is_cool = False\n",
    "is_cool = True"
   ]
  },
  {
   "cell_type": "code",
   "execution_count": 132,
   "id": "8bc36cb5-4ed4-4198-83dd-3577172d7eb6",
   "metadata": {},
   "outputs": [
    {
     "name": "stdout",
     "output_type": "stream",
     "text": [
      "True\n",
      "False\n",
      "True\n"
     ]
    }
   ],
   "source": [
    "print(bool(1))\n",
    "print(bool(0))\n",
    "print(bool('True'))"
   ]
  },
  {
   "cell_type": "markdown",
   "id": "939d1cdb-9184-4aeb-9b70-8f96a0414b62",
   "metadata": {},
   "source": [
    "### Exercise Type Conversion"
   ]
  },
  {
   "cell_type": "code",
   "execution_count": 142,
   "id": "07dab7f6-5854-423a-98f1-22b8dca191c0",
   "metadata": {},
   "outputs": [
    {
     "name": "stdin",
     "output_type": "stream",
     "text": [
      "What year where you born? 2001\n"
     ]
    },
    {
     "name": "stdout",
     "output_type": "stream",
     "text": [
      "Your age is: 22\n"
     ]
    }
   ],
   "source": [
    "birth_year = input('What year where you born?')\n",
    "age = 2023 - int(birth_year)\n",
    "print(f'Your age is: {age}')"
   ]
  },
  {
   "cell_type": "markdown",
   "id": "e1d6862d-2243-45f5-accb-0137d6252406",
   "metadata": {},
   "source": [
    "### Exercise Password Checker"
   ]
  },
  {
   "cell_type": "code",
   "execution_count": 6,
   "id": "a9eed577-31bc-4d52-9682-56dd94f72bd9",
   "metadata": {},
   "outputs": [
    {
     "name": "stdin",
     "output_type": "stream",
     "text": [
      "What is your username? altin\n",
      "What is your password? supersecret\n"
     ]
    },
    {
     "name": "stdout",
     "output_type": "stream",
     "text": [
      "altin, your password, ***********, is 11 letters long\n"
     ]
    }
   ],
   "source": [
    "username = input('What is your username?')\n",
    "password = input('What is your password?')\n",
    "\n",
    "password_len = len(password)\n",
    "hidden_password = '*' * password_len\n",
    "\n",
    "print(f'{username}, your password, {hidden_password}, is {password_len} letters long')"
   ]
  },
  {
   "cell_type": "markdown",
   "id": "f45e024a-df10-40c9-bcd5-f8bf542bed29",
   "metadata": {},
   "source": [
    "### Lists"
   ]
  },
  {
   "cell_type": "code",
   "execution_count": 8,
   "id": "3091ed2f-02e5-46ad-842a-c4af09b2dac3",
   "metadata": {},
   "outputs": [],
   "source": [
    "li = [1, 2, 3, 4, 5]\n",
    "li2 = ['a', 'b', 'c']\n",
    "li3 = [1, 2.5, 'a', True]"
   ]
  },
  {
   "cell_type": "code",
   "execution_count": 10,
   "id": "181a4ef8-4b57-4499-a748-0775ac883476",
   "metadata": {},
   "outputs": [
    {
     "name": "stdout",
     "output_type": "stream",
     "text": [
      "notebooks\n",
      "sunglasses\n"
     ]
    }
   ],
   "source": [
    "amazon_cart = ['notebooks', 'sunglasses']\n",
    "print(amazon_cart[0])\n",
    "print(amazon_cart[1])"
   ]
  },
  {
   "cell_type": "markdown",
   "id": "4524a428-d1fc-42a4-a52d-3513f8340abd",
   "metadata": {},
   "source": [
    "### List Slicing"
   ]
  },
  {
   "cell_type": "code",
   "execution_count": 13,
   "id": "69447269-6f13-48c9-9ab3-f6913745993f",
   "metadata": {},
   "outputs": [
    {
     "name": "stdout",
     "output_type": "stream",
     "text": [
      "['notebooks', 'sunglasses']\n",
      "['notebooks', 'toys']\n"
     ]
    }
   ],
   "source": [
    "amazon_cart = [\n",
    "    'notebooks', \n",
    "    'sunglasses',\n",
    "    'toys',\n",
    "    'grapes'\n",
    "]\n",
    "print(amazon_cart[0:2])\n",
    "print(amazon_cart[0::2])"
   ]
  },
  {
   "cell_type": "markdown",
   "id": "0ca21c85-8591-4d79-bbcb-93f2e138b59d",
   "metadata": {},
   "source": [
    "Lists are mutable"
   ]
  },
  {
   "cell_type": "code",
   "execution_count": 17,
   "id": "fb4c0111-ad8f-4c89-aced-b11ae6bde133",
   "metadata": {},
   "outputs": [
    {
     "name": "stdout",
     "output_type": "stream",
     "text": [
      "['gum', 'sunglasses', 'toys']\n",
      "['laptop', 'sunglasses', 'toys', 'grapes']\n"
     ]
    }
   ],
   "source": [
    "amazon_cart[0] = 'laptop'\n",
    "new_cart = amazon_cart[0:3]\n",
    "new_cart[0] = 'gum'\n",
    "print(new_cart)\n",
    "print(amazon_cart)"
   ]
  },
  {
   "cell_type": "markdown",
   "id": "f1aca5c6-8b9c-483c-b74d-4d88d5fd3045",
   "metadata": {},
   "source": [
    "Copy a list"
   ]
  },
  {
   "cell_type": "code",
   "execution_count": 18,
   "id": "1cfb2005-8593-42fa-a4b1-9c57aa552c0f",
   "metadata": {},
   "outputs": [
    {
     "name": "stdout",
     "output_type": "stream",
     "text": [
      "['laptop', 'sunglasses', 'toys', 'grapes']\n"
     ]
    }
   ],
   "source": [
    "new_cart1 = amazon_cart[:]\n",
    "print(new_cart1)"
   ]
  },
  {
   "cell_type": "markdown",
   "id": "cc6edc7b-6b93-4256-b778-60e3258b3a20",
   "metadata": {},
   "source": [
    "### Matrix"
   ]
  },
  {
   "cell_type": "code",
   "execution_count": 21,
   "id": "7d728eef-e262-4fd3-956e-0cec260de5ba",
   "metadata": {},
   "outputs": [
    {
     "name": "stdout",
     "output_type": "stream",
     "text": [
      "5\n"
     ]
    }
   ],
   "source": [
    "matrix = [\n",
    "    [1, 5, 1],\n",
    "    [0, 1, 0],\n",
    "    [1, 0, 1]\n",
    "]\n",
    "\n",
    "print(matrix[0][1])"
   ]
  },
  {
   "cell_type": "markdown",
   "id": "052abf76-0e01-467b-b93e-2bafe929e300",
   "metadata": {},
   "source": [
    "### List Methods"
   ]
  },
  {
   "cell_type": "code",
   "execution_count": 43,
   "id": "5e92b3f9-44c1-4459-802b-be040d5fd6b9",
   "metadata": {},
   "outputs": [
    {
     "name": "stdout",
     "output_type": "stream",
     "text": [
      "5\n"
     ]
    }
   ],
   "source": [
    "basket = [1, 2, 3, 4, 5]\n",
    "print(len(basket))"
   ]
  },
  {
   "cell_type": "code",
   "execution_count": 44,
   "id": "5285710b-12f8-4ba8-aa3d-9ab32bf370fd",
   "metadata": {},
   "outputs": [
    {
     "name": "stdout",
     "output_type": "stream",
     "text": [
      "[1, 2, 3, 4, 5, 100]\n",
      "[1, 2, 3, 4, 100, 5, 100]\n",
      "[1, 2, 3, 4, 100, 5, 100, 100, 101]\n"
     ]
    }
   ],
   "source": [
    "#adding\n",
    "basket.append(100)\n",
    "print(basket)\n",
    "basket.insert(4, 100)\n",
    "print(basket)\n",
    "basket.extend([100, 101])\n",
    "print(basket)"
   ]
  },
  {
   "cell_type": "code",
   "execution_count": 45,
   "id": "3885d3ba-ddd5-459b-a1a2-0ad9bfc99cd0",
   "metadata": {},
   "outputs": [
    {
     "name": "stdout",
     "output_type": "stream",
     "text": [
      "[1, 2, 3, 4, 100, 5, 100, 100]\n",
      "[2, 3, 4, 100, 5, 100, 100]\n",
      "[2, 3, 100, 5, 100, 100]\n",
      "[]\n"
     ]
    }
   ],
   "source": [
    "#removing\n",
    "basket.pop()\n",
    "print(basket)\n",
    "basket.pop(0)\n",
    "print(basket)\n",
    "basket.remove(4)\n",
    "print(basket)\n",
    "basket.clear()\n",
    "print(basket)"
   ]
  },
  {
   "cell_type": "code",
   "execution_count": 66,
   "id": "ccbce297-dd8c-4ba8-9f51-123d28a3ceeb",
   "metadata": {},
   "outputs": [],
   "source": [
    "basket = ['a', 'b', 'c', 'd', 'e', 'd']"
   ]
  },
  {
   "cell_type": "code",
   "execution_count": 67,
   "id": "d0afe60a-ae3d-43fb-98d9-8ae0cf05eff5",
   "metadata": {},
   "outputs": [
    {
     "name": "stdout",
     "output_type": "stream",
     "text": [
      "True\n",
      "False\n",
      "3\n",
      "2\n"
     ]
    }
   ],
   "source": [
    "print('d' in basket)\n",
    "print('x' in basket)\n",
    "print(basket.index('d', 0, 4))\n",
    "print(basket.count('d'))"
   ]
  },
  {
   "cell_type": "code",
   "execution_count": 76,
   "id": "c61cddd7-683f-480c-a62c-98d2e3267cd7",
   "metadata": {},
   "outputs": [
    {
     "name": "stdout",
     "output_type": "stream",
     "text": [
      "['a', 'b', 'c', 'd', 'd', 'e']\n",
      "['a', 'b', 'c', 'd', 'd', 'e']\n",
      "['e', 'd', 'd', 'c', 'b', 'a']\n",
      "['a', 'b', 'c', 'd', 'd', 'e']\n",
      "['e', 'd', 'd', 'c', 'b', 'a']\n"
     ]
    }
   ],
   "source": [
    "print(sorted(basket))\n",
    "new_basket = basket.copy()\n",
    "new_basket.sort()\n",
    "print(new_basket)\n",
    "\n",
    "print(basket)\n",
    "basket.sort()\n",
    "print(basket)\n",
    "basket.reverse()\n",
    "print(basket)"
   ]
  },
  {
   "cell_type": "markdown",
   "id": "f97f7bb7-ad84-42a7-a36d-868314725785",
   "metadata": {},
   "source": [
    "### Common List Patterns"
   ]
  },
  {
   "cell_type": "code",
   "execution_count": 4,
   "id": "db8ccb8a-264f-4e41-86f0-141ef4effda1",
   "metadata": {},
   "outputs": [
    {
     "name": "stdout",
     "output_type": "stream",
     "text": [
      "['x', 'e', 'd', 'd', 'c', 'b', 'a']\n",
      "[1, 2, 3, 4, 5, 6, 7, 8, 9, 10, 11, 12, 13, 14, 15, 16, 17, 18, 19, 20, 21, 22, 23, 24, 25, 26, 27, 28, 29, 30, 31, 32, 33, 34, 35, 36, 37, 38, 39, 40, 41, 42, 43, 44, 45, 46, 47, 48, 49, 50, 51, 52, 53, 54, 55, 56, 57, 58, 59, 60, 61, 62, 63, 64, 65, 66, 67, 68, 69, 70, 71, 72, 73, 74, 75, 76, 77, 78, 79, 80, 81, 82, 83, 84, 85, 86, 87, 88, 89, 90, 91, 92, 93, 94, 95, 96, 97, 98, 99, 100]\n",
      "hi my name is JOJO\n"
     ]
    }
   ],
   "source": [
    "basket = ['a', 'x', 'b', 'c', 'd', 'e', 'd']\n",
    "\n",
    "basket.sort()\n",
    "\n",
    "print(basket[::-1])\n",
    "print(list(range(1, 101)))\n",
    "\n",
    "sentence = ' '\n",
    "new_sentence = sentence.join(['hi', 'my', 'name', 'is', 'JOJO'])\n",
    "\n",
    "print(new_sentence)"
   ]
  },
  {
   "cell_type": "markdown",
   "id": "ca72470b-2f1b-4e74-9daa-4cf90f5557ea",
   "metadata": {},
   "source": [
    "### List Unpacking"
   ]
  },
  {
   "cell_type": "code",
   "execution_count": 8,
   "id": "ea00caaf-b393-46ee-872f-9eaee0cb2757",
   "metadata": {},
   "outputs": [
    {
     "name": "stdout",
     "output_type": "stream",
     "text": [
      "1\n",
      "2\n",
      "3\n",
      "[4, 5, 6, 7, 8]\n",
      "9\n"
     ]
    }
   ],
   "source": [
    "a, b, c, *other, d = [1, 2, 3, 4, 5, 6, 7, 8, 9]\n",
    "\n",
    "print(a)\n",
    "print(b)\n",
    "print(c)\n",
    "print(other)\n",
    "print(d)"
   ]
  },
  {
   "cell_type": "markdown",
   "id": "e414ed4a-73ce-482c-895f-6c66952d71f5",
   "metadata": {},
   "source": [
    "### None"
   ]
  },
  {
   "cell_type": "code",
   "execution_count": 9,
   "id": "2145ae3f-10b8-40bb-902f-874d2864fd4b",
   "metadata": {},
   "outputs": [
    {
     "name": "stdout",
     "output_type": "stream",
     "text": [
      "None\n"
     ]
    }
   ],
   "source": [
    "weapons = None\n",
    "print(weapons)"
   ]
  },
  {
   "cell_type": "markdown",
   "id": "dd4e4845-7379-4b22-b3c9-95d6702c7ab0",
   "metadata": {},
   "source": [
    "### Dictionaries"
   ]
  },
  {
   "cell_type": "code",
   "execution_count": 15,
   "id": "de126b74-8c89-466a-9488-9ea6b0dcea27",
   "metadata": {},
   "outputs": [
    {
     "name": "stdout",
     "output_type": "stream",
     "text": [
      "{'a': [1, 2, 3], 'b': 'hello', 'x': True}\n",
      "[1, 2, 3]\n",
      "2\n"
     ]
    }
   ],
   "source": [
    "dictionary = {\n",
    "    'a' : [1, 2, 3],\n",
    "    'b' : 'hello',\n",
    "    'x' : True\n",
    "}\n",
    "\n",
    "print(dictionary)\n",
    "print(dictionary['a'])\n",
    "print(dictionary['a'][1])"
   ]
  },
  {
   "cell_type": "code",
   "execution_count": 17,
   "id": "2f72df19-5e47-408d-a647-8ab3ef857fd2",
   "metadata": {},
   "outputs": [
    {
     "name": "stdout",
     "output_type": "stream",
     "text": [
      "3\n"
     ]
    }
   ],
   "source": [
    "my_list = [\n",
    "    {\n",
    "    'a' : [1, 2, 3],\n",
    "    'b' : 'hello',\n",
    "    'x' : True\n",
    "    },\n",
    "    {\n",
    "    'a' : [1, 2, 3],\n",
    "    'b' : 'hello',\n",
    "    'x' : True\n",
    "    }\n",
    "]\n",
    "\n",
    "print(my_list[0]['a'][2])"
   ]
  },
  {
   "cell_type": "markdown",
   "id": "40b2866d-b04e-4efc-8402-7085dbd2e4be",
   "metadata": {},
   "source": [
    "### Dictionary Methods"
   ]
  },
  {
   "cell_type": "code",
   "execution_count": 25,
   "id": "4a9070f3-4466-4824-a960-335bcaa3f6fd",
   "metadata": {},
   "outputs": [
    {
     "name": "stdout",
     "output_type": "stream",
     "text": [
      "None\n",
      "55\n"
     ]
    }
   ],
   "source": [
    "user = {\n",
    "    'basket' : [1, 2, 3],\n",
    "    'greet' : 'hello',\n",
    "}\n",
    "\n",
    "print(user.get('age'))\n",
    "print(user.get('age', 55))"
   ]
  },
  {
   "cell_type": "code",
   "execution_count": 37,
   "id": "e5154337-2c65-45f2-ad5d-9a26cf56ad54",
   "metadata": {},
   "outputs": [
    {
     "name": "stdout",
     "output_type": "stream",
     "text": [
      "{'name': 'JohnJohn'}\n"
     ]
    }
   ],
   "source": [
    "user2 = dict(name='JohnJohn')\n",
    "print(user2)"
   ]
  },
  {
   "cell_type": "code",
   "execution_count": 38,
   "id": "9436ac77-7e9e-4b0d-844c-f740c641c9fd",
   "metadata": {},
   "outputs": [
    {
     "name": "stdout",
     "output_type": "stream",
     "text": [
      "True\n",
      "True\n",
      "True\n",
      "dict_items([('basket', [1, 2, 3]), ('greet', 'hello')])\n",
      "None\n",
      "{'basket': [1, 2, 3], 'greet': 'hello'}\n"
     ]
    }
   ],
   "source": [
    "print('basket' in user)\n",
    "print('greet' in user.keys())\n",
    "print('hello' in user.values())\n",
    "print(user.items())\n",
    "user2 = user.copy()\n",
    "print(user.clear())\n",
    "print(user2)"
   ]
  },
  {
   "cell_type": "code",
   "execution_count": 47,
   "id": "ce600493-405f-46e7-9e7b-56699dd53174",
   "metadata": {},
   "outputs": [
    {
     "name": "stdout",
     "output_type": "stream",
     "text": [
      "20\n",
      "{'basket': [1, 2, 3], 'greet': 'hello'}\n",
      "('greet', 'hello')\n",
      "{'basket': [1, 2, 3]}\n",
      "{'basket': [1, 2, 3], 'greet': 'hi'}\n"
     ]
    }
   ],
   "source": [
    "user = {\n",
    "    'basket' : [1, 2, 3],\n",
    "    'greet' : 'hello',\n",
    "    'age' : 20\n",
    "}\n",
    "\n",
    "print(user.pop('age'))\n",
    "print(user)\n",
    "print(user.popitem())\n",
    "print(user)\n",
    "user.update({'greet' : 'hi'})\n",
    "print(user)"
   ]
  },
  {
   "cell_type": "markdown",
   "id": "8ea7103c-895c-4902-9451-c6026db4963d",
   "metadata": {},
   "source": [
    "### Tuples"
   ]
  },
  {
   "cell_type": "markdown",
   "id": "4c893767-27a0-4e58-9490-566352acb183",
   "metadata": {},
   "source": [
    "Tuples are immutable"
   ]
  },
  {
   "cell_type": "code",
   "execution_count": 4,
   "id": "68087638-bd77-46e1-b344-af5a33883667",
   "metadata": {},
   "outputs": [
    {
     "name": "stdout",
     "output_type": "stream",
     "text": [
      "2\n",
      "True\n"
     ]
    }
   ],
   "source": [
    "my_tuple = (1, 2, 3, 4, 5)\n",
    "print(my_tuple[1])\n",
    "print(5 in my_tuple)"
   ]
  },
  {
   "cell_type": "code",
   "execution_count": 6,
   "id": "6bd997d4-69a3-4852-8555-02d75c69d7aa",
   "metadata": {},
   "outputs": [
    {
     "name": "stdout",
     "output_type": "stream",
     "text": [
      "(2,)\n"
     ]
    }
   ],
   "source": [
    "new_tuple = my_tuple[1:2]\n",
    "print(new_tuple)"
   ]
  },
  {
   "cell_type": "code",
   "execution_count": 9,
   "id": "3beb6484-53ed-4324-8858-818a86349572",
   "metadata": {},
   "outputs": [
    {
     "name": "stdout",
     "output_type": "stream",
     "text": [
      "1\n",
      "2\n",
      "3\n",
      "[4, 5]\n"
     ]
    }
   ],
   "source": [
    "x, y, z, *other = (1, 2, 3, 4, 5)\n",
    "print(x)\n",
    "print(y)\n",
    "print(z)\n",
    "print(other)"
   ]
  },
  {
   "cell_type": "code",
   "execution_count": 13,
   "id": "e25c463c-885a-47d4-97b5-ba3dd3548db2",
   "metadata": {},
   "outputs": [
    {
     "name": "stdout",
     "output_type": "stream",
     "text": [
      "2\n",
      "4\n",
      "6\n"
     ]
    }
   ],
   "source": [
    "my_tuple = (1, 2, 3, 4, 5, 5)\n",
    "print(my_tuple.count(5))\n",
    "print(my_tuple.index(5))\n",
    "print(len(my_tuple))"
   ]
  },
  {
   "cell_type": "markdown",
   "id": "757c5e4f-f8ac-42b6-8c4f-04c9b81f1f40",
   "metadata": {},
   "source": [
    "### Sets"
   ]
  },
  {
   "cell_type": "code",
   "execution_count": 24,
   "id": "48e90d93-07b8-4844-8367-237581c965f2",
   "metadata": {},
   "outputs": [
    {
     "name": "stdout",
     "output_type": "stream",
     "text": [
      "{1, 2, 3, 4, 5, 100}\n",
      "True\n",
      "6\n",
      "[1, 2, 3, 4, 5, 100]\n",
      "{1, 2, 3, 4, 5, 100}\n",
      "set()\n"
     ]
    }
   ],
   "source": [
    "my_set = {1, 2, 3, 4, 5, 5}\n",
    "my_set.add(100)\n",
    "my_set.add(2)\n",
    "print(my_set)\n",
    "print(1 in my_set)\n",
    "print(len(my_set))\n",
    "print(list(my_set))\n",
    "\n",
    "new_set = my_set.copy()\n",
    "my_set.clear()\n",
    "print(new_set)\n",
    "print(my_set)"
   ]
  },
  {
   "cell_type": "code",
   "execution_count": 17,
   "id": "27879f6f-ad15-4593-807d-9f8dec92fef8",
   "metadata": {},
   "outputs": [
    {
     "name": "stdout",
     "output_type": "stream",
     "text": [
      "{1, 2, 3, 4, 5}\n"
     ]
    }
   ],
   "source": [
    "my_list = [1, 2, 3, 4, 5, 5]\n",
    "print(set(my_list))"
   ]
  },
  {
   "cell_type": "code",
   "execution_count": 40,
   "id": "962afc86-4901-40f6-9ccc-6caa2f9346da",
   "metadata": {},
   "outputs": [
    {
     "name": "stdout",
     "output_type": "stream",
     "text": [
      "{1, 2, 3}\n",
      "None\n",
      "{1, 2, 3, 4, 6, 7}\n",
      "{4, 6, 7}\n",
      "False\n",
      "{1, 2, 3, 4, 5, 6, 7, 8, 9, 10}\n",
      "False\n",
      "False\n"
     ]
    }
   ],
   "source": [
    "my_set = {1, 2, 3, 4, 5, 6, 7}\n",
    "your_set = {4, 5, 6, 7, 8, 9, 10}\n",
    "\n",
    "print(my_set.difference(your_set))\n",
    "print(my_set.discard(5))\n",
    "print(my_set)\n",
    "#print(my_set.difference_update(your_set))\n",
    "#print(my_set)\n",
    "print(my_set.intersection(your_set))\n",
    "#print(my_set & your_set)\n",
    "print(my_set.isdisjoint(your_set))\n",
    "print(my_set.union(your_set))\n",
    "#print(my_set | you_set)\n",
    "print(my_set.issubset(your_set))\n",
    "print(my_set.issuperset(your_set))"
   ]
  },
  {
   "cell_type": "markdown",
   "id": "c04c7bc4-1ecb-48f7-908c-d67a546074da",
   "metadata": {},
   "source": [
    "The isdisjoint() method returns True if two sets don't have any common items between them\n",
    "\n",
    "The issubset() method returns True if all items in the set exists in the specified set\n",
    "\n",
    "The issuperset() method is a set function that tells whether or not a set contains all the elements of another set"
   ]
  }
 ],
 "metadata": {
  "kernelspec": {
   "display_name": "Python 3 (ipykernel)",
   "language": "python",
   "name": "python3"
  },
  "language_info": {
   "codemirror_mode": {
    "name": "ipython",
    "version": 3
   },
   "file_extension": ".py",
   "mimetype": "text/x-python",
   "name": "python",
   "nbconvert_exporter": "python",
   "pygments_lexer": "ipython3",
   "version": "3.11.4"
  }
 },
 "nbformat": 4,
 "nbformat_minor": 5
}
