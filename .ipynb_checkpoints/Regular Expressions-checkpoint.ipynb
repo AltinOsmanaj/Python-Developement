{
 "cells": [
  {
   "cell_type": "markdown",
   "id": "0be229cf-c2f0-4c51-b687-718c40e20c00",
   "metadata": {},
   "source": [
    "### Regular Expressions"
   ]
  },
  {
   "cell_type": "code",
   "execution_count": 2,
   "id": "3442199c-9515-4558-a0d3-5962cbeb5b50",
   "metadata": {},
   "outputs": [
    {
     "name": "stdout",
     "output_type": "stream",
     "text": [
      "True\n"
     ]
    }
   ],
   "source": [
    "import re\n",
    "\n",
    "string = 'search this inside of this text please!'\n",
    "print('search' in string)"
   ]
  },
  {
   "cell_type": "code",
   "execution_count": 11,
   "id": "581d5f73-8e0a-4cb0-bdfd-e7ebfa18ddca",
   "metadata": {},
   "outputs": [
    {
     "name": "stdout",
     "output_type": "stream",
     "text": [
      "<re.Match object; span=(7, 11), match='this'>\n"
     ]
    }
   ],
   "source": [
    "print(re.search('this', string))"
   ]
  },
  {
   "cell_type": "code",
   "execution_count": 12,
   "id": "e0860d4e-6474-4fbe-bc33-6195f0a95ce3",
   "metadata": {},
   "outputs": [],
   "source": [
    "a = re.search('this', string)"
   ]
  },
  {
   "cell_type": "code",
   "execution_count": 13,
   "id": "ef88c9aa-a925-4fbd-bc05-bd36d2ac7033",
   "metadata": {},
   "outputs": [
    {
     "name": "stdout",
     "output_type": "stream",
     "text": [
      "(7, 11)\n"
     ]
    }
   ],
   "source": [
    "print(a.span())"
   ]
  },
  {
   "cell_type": "code",
   "execution_count": 14,
   "id": "a544b35e-c02b-4a17-afc8-98fbe462e1d7",
   "metadata": {},
   "outputs": [
    {
     "name": "stdout",
     "output_type": "stream",
     "text": [
      "7\n"
     ]
    }
   ],
   "source": [
    "print(a.start())"
   ]
  },
  {
   "cell_type": "code",
   "execution_count": 15,
   "id": "dbb9c49c-d012-4bc8-aab2-5e5687a2795e",
   "metadata": {},
   "outputs": [
    {
     "name": "stdout",
     "output_type": "stream",
     "text": [
      "11\n"
     ]
    }
   ],
   "source": [
    "print(a.end())"
   ]
  },
  {
   "cell_type": "code",
   "execution_count": 16,
   "id": "d6028263-ddc6-4c9c-9ddd-7d01d0e7b8b6",
   "metadata": {},
   "outputs": [
    {
     "name": "stdout",
     "output_type": "stream",
     "text": [
      "this\n"
     ]
    }
   ],
   "source": [
    "print(a.group())"
   ]
  },
  {
   "cell_type": "code",
   "execution_count": 17,
   "id": "f1737d65-0b7c-44e5-afb6-f5bca1a742bf",
   "metadata": {},
   "outputs": [
    {
     "ename": "AttributeError",
     "evalue": "module 're' has no attribute 'searc'",
     "output_type": "error",
     "traceback": [
      "\u001b[1;31m---------------------------------------------------------------------------\u001b[0m",
      "\u001b[1;31mAttributeError\u001b[0m                            Traceback (most recent call last)",
      "\u001b[1;32m~\\AppData\\Local\\Temp\\ipykernel_10948\\334938112.py\u001b[0m in \u001b[0;36m<module>\u001b[1;34m\u001b[0m\n\u001b[1;32m----> 1\u001b[1;33m \u001b[0mprint\u001b[0m\u001b[1;33m(\u001b[0m\u001b[0mre\u001b[0m\u001b[1;33m.\u001b[0m\u001b[0msearc\u001b[0m\u001b[1;33m(\u001b[0m\u001b[1;34m'thIs'\u001b[0m\u001b[1;33m,\u001b[0m \u001b[0mstring\u001b[0m\u001b[1;33m)\u001b[0m\u001b[1;33m)\u001b[0m\u001b[1;33m\u001b[0m\u001b[1;33m\u001b[0m\u001b[0m\n\u001b[0m\u001b[0;32m      2\u001b[0m \u001b[0mprint\u001b[0m\u001b[1;33m(\u001b[0m\u001b[0ma\u001b[0m\u001b[1;33m.\u001b[0m\u001b[0mspan\u001b[0m\u001b[1;33m(\u001b[0m\u001b[1;33m)\u001b[0m\u001b[1;33m)\u001b[0m\u001b[1;33m\u001b[0m\u001b[1;33m\u001b[0m\u001b[0m\n",
      "\u001b[1;31mAttributeError\u001b[0m: module 're' has no attribute 'searc'"
     ]
    }
   ],
   "source": [
    "print(re.searc('thIs', string))\n",
    "print(a.span())"
   ]
  },
  {
   "cell_type": "code",
   "execution_count": 18,
   "id": "316b5c00-f743-4ee8-8556-09fa80eaf7f7",
   "metadata": {},
   "outputs": [],
   "source": [
    "pattern = re.compile('this')\n",
    "string = 'search this inside of this text please!'"
   ]
  },
  {
   "cell_type": "code",
   "execution_count": 21,
   "id": "c5e98cc3-b9b5-477f-9038-59e3bdc851c0",
   "metadata": {},
   "outputs": [
    {
     "name": "stdout",
     "output_type": "stream",
     "text": [
      "this\n"
     ]
    }
   ],
   "source": [
    "a = pattern.search(string)\n",
    "print(a.group())"
   ]
  },
  {
   "cell_type": "code",
   "execution_count": 25,
   "id": "8b6d9ec7-0d28-4b53-a991-5c3a66d896c4",
   "metadata": {},
   "outputs": [
    {
     "name": "stdout",
     "output_type": "stream",
     "text": [
      "['this', 'this']\n"
     ]
    }
   ],
   "source": [
    "b = pattern.findall(string)\n",
    "print(b)"
   ]
  },
  {
   "cell_type": "code",
   "execution_count": 26,
   "id": "0671f624-977b-4dd1-8dca-ea41c95f33b7",
   "metadata": {},
   "outputs": [
    {
     "name": "stdout",
     "output_type": "stream",
     "text": [
      "None\n"
     ]
    }
   ],
   "source": [
    "c = pattern.fullmatch(string)\n",
    "print(c)"
   ]
  },
  {
   "cell_type": "code",
   "execution_count": 28,
   "id": "ca905161-e5f7-4aaf-b77c-6690fb0452f3",
   "metadata": {},
   "outputs": [
    {
     "name": "stdout",
     "output_type": "stream",
     "text": [
      "<re.Match object; span=(0, 39), match='search this inside of this text please!'>\n"
     ]
    }
   ],
   "source": [
    "pattern = re.compile('search this inside of this text please!')\n",
    "string = 'search this inside of this text please!'\n",
    "\n",
    "c = pattern. fullmatch(string)\n",
    "print(c)"
   ]
  },
  {
   "cell_type": "code",
   "execution_count": 30,
   "id": "c6b790ef-ab34-4ebf-af79-ff2752b5e7cc",
   "metadata": {},
   "outputs": [
    {
     "name": "stdout",
     "output_type": "stream",
     "text": [
      "<re.Match object; span=(0, 39), match='search this inside of this text please!'>\n"
     ]
    }
   ],
   "source": [
    "pattern = re.compile('search this inside of this text please!')\n",
    "string = 'search this inside of this text please! Altin'\n",
    "d = pattern.match(string)\n",
    "print(d)"
   ]
  },
  {
   "cell_type": "code",
   "execution_count": 34,
   "id": "f007b6c9-6599-4fa5-85a6-0670aff0baf1",
   "metadata": {},
   "outputs": [
    {
     "name": "stdout",
     "output_type": "stream",
     "text": [
      "sea\n",
      "s\n",
      "a\n"
     ]
    }
   ],
   "source": [
    "pattern = re.compile(r\"([a-zA-Z]).([a])\")\n",
    "string = 'search this inside of this text please! altin'\n",
    "a = pattern.search(string)\n",
    "print(a.group())\n",
    "print(a.group(1))\n",
    "print(a.group(2))"
   ]
  },
  {
   "cell_type": "code",
   "execution_count": 38,
   "id": "b28df7b4-f76a-4be9-a606-0d8b32a3c4e8",
   "metadata": {},
   "outputs": [
    {
     "name": "stdout",
     "output_type": "stream",
     "text": [
      "<re.Match object; span=(0, 7), match='b@b.com'>\n"
     ]
    }
   ],
   "source": [
    "pattern = re.compile(r\"(^[a-zA-Z0-9_.+-]+@[a-zA-Z0-9-]+\\.[a-zA-Z0-9-.]+$)\")\n",
    "string = 'b@b.com'\n",
    "\n",
    "a = pattern.search(string)\n",
    "print(a)"
   ]
  },
  {
   "cell_type": "markdown",
   "id": "ed6598a7-b680-46fd-8b3c-b5b22ccb33d7",
   "metadata": {},
   "source": [
    "### Exercise Password Validation"
   ]
  },
  {
   "cell_type": "raw",
   "id": "3e2c501e-336c-4a00-9d33-0f9c964d4114",
   "metadata": {},
   "source": [
    "At least 8 char long\n",
    "Contain any sort letters, numbers $%#@\n",
    "Has to end with a number"
   ]
  },
  {
   "cell_type": "code",
   "execution_count": 5,
   "id": "caa05730-3b09-4040-9a70-e907e7efe8ba",
   "metadata": {},
   "outputs": [
    {
     "name": "stdout",
     "output_type": "stream",
     "text": [
      "<re.Match object; span=(0, 15), match='supersecret#%$8'>\n"
     ]
    }
   ],
   "source": [
    "pattern = re.compile(r\"[A-Za-z0-9$%#@]{7,}[0-9]\")\n",
    "password = 'supersecret#%$8'\n",
    "\n",
    "check = pattern.fullmatch(password)\n",
    "print(check)"
   ]
  }
 ],
 "metadata": {
  "kernelspec": {
   "display_name": "Python 3 (ipykernel)",
   "language": "python",
   "name": "python3"
  },
  "language_info": {
   "codemirror_mode": {
    "name": "ipython",
    "version": 3
   },
   "file_extension": ".py",
   "mimetype": "text/x-python",
   "name": "python",
   "nbconvert_exporter": "python",
   "pygments_lexer": "ipython3",
   "version": "3.11.4"
  }
 },
 "nbformat": 4,
 "nbformat_minor": 5
}
