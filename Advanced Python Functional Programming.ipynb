{
 "cells": [
  {
   "cell_type": "markdown",
   "id": "45be80d8-ec0e-4942-baaf-d5d6464713c0",
   "metadata": {},
   "source": [
    "-Pure Functions-"
   ]
  },
  {
   "cell_type": "raw",
   "id": "956a533e-df8f-4bf8-965e-b2fa9ba1c805",
   "metadata": {},
   "source": [
    "1. Given the same input everytime returns the same output\n",
    "2. It should not produce any side effects (effects the outside world)"
   ]
  },
  {
   "cell_type": "markdown",
   "id": "1ad83a3a-6a67-4eb8-a3b7-d3184b9558cd",
   "metadata": {},
   "source": [
    "def multiply_by2(li):\n",
    "    new_list = []\n",
    "    for item in li:\n",
    "        new_list.append(item * 2)\n",
    "    return new_list\n",
    "\n",
    "print(multiply_by2([1, 2, 3]))"
   ]
  },
  {
   "cell_type": "markdown",
   "id": "6bc95130-a74a-45f4-86e4-1af5650c3f66",
   "metadata": {},
   "source": [
    "-map()-"
   ]
  },
  {
   "cell_type": "code",
   "execution_count": 9,
   "id": "e5d6670b-cadc-409d-b29a-cfac884b9f53",
   "metadata": {},
   "outputs": [
    {
     "name": "stdout",
     "output_type": "stream",
     "text": [
      "[2, 4, 6]\n"
     ]
    }
   ],
   "source": [
    "def multiply_by2(item):\n",
    "    return item * 2\n",
    "\n",
    "print(list(map(multiply_by2, [1, 2, 3])))"
   ]
  },
  {
   "cell_type": "code",
   "execution_count": 10,
   "id": "9da0d6be-5fe4-4085-90ac-1d9716f8c633",
   "metadata": {},
   "outputs": [
    {
     "name": "stdout",
     "output_type": "stream",
     "text": [
      "[2, 4, 6]\n",
      "[1, 2, 3]\n"
     ]
    }
   ],
   "source": [
    "my_list = [1, 2, 3]\n",
    "def multiply_by2(item):\n",
    "    return item * 2\n",
    "\n",
    "print(list(map(multiply_by2, my_list)))\n",
    "print(my_list)"
   ]
  },
  {
   "cell_type": "markdown",
   "id": "a71c11fc-3b7e-49c0-97b7-375fda79dec0",
   "metadata": {},
   "source": [
    "-filter()-"
   ]
  },
  {
   "cell_type": "code",
   "execution_count": 12,
   "id": "83ff875b-33cd-47d5-97fa-87d3442ea6fb",
   "metadata": {},
   "outputs": [
    {
     "name": "stdout",
     "output_type": "stream",
     "text": [
      "[1, 3]\n",
      "[1, 2, 3]\n"
     ]
    }
   ],
   "source": [
    "my_list = [1, 2, 3]\n",
    "def only_odd(item):\n",
    "    return item % 2 != 0\n",
    "\n",
    "print(list(filter(only_odd, my_list)))\n",
    "print(my_list)"
   ]
  },
  {
   "cell_type": "markdown",
   "id": "a5a4e75d-bc43-4673-b0f6-06848bd48d65",
   "metadata": {},
   "source": [
    "-zip()-"
   ]
  },
  {
   "cell_type": "code",
   "execution_count": 15,
   "id": "365122c1-625c-4084-baf1-67c3ccf171b1",
   "metadata": {},
   "outputs": [
    {
     "name": "stdout",
     "output_type": "stream",
     "text": [
      "[(1, 10, 5), (2, 20, 4), (3, 30, 3)]\n"
     ]
    }
   ],
   "source": [
    "my_list = [1, 2, 3]\n",
    "your_list = [10 ,20 ,30]\n",
    "their_list = (5, 4, 3)\n",
    "\n",
    "print(list(zip(my_list, your_list, their_list)))"
   ]
  },
  {
   "cell_type": "markdown",
   "id": "2c64f7be-8dce-43cf-a95c-86c8bf236e04",
   "metadata": {},
   "source": [
    "-reduce()-"
   ]
  },
  {
   "cell_type": "code",
   "execution_count": 21,
   "id": "b47b5b1f-9f03-4cc8-950d-087983de54b7",
   "metadata": {},
   "outputs": [
    {
     "name": "stdout",
     "output_type": "stream",
     "text": [
      "10 1\n",
      "11 2\n",
      "13 3\n",
      "16\n"
     ]
    }
   ],
   "source": [
    "from functools import reduce\n",
    "\n",
    "my_list = [1, 2, 3]\n",
    "def accumulator(acc, item):\n",
    "    print(acc, item)\n",
    "    return acc + item\n",
    "\n",
    "print(reduce(accumulator, my_list, 10))"
   ]
  },
  {
   "cell_type": "markdown",
   "id": "0983ac0f-fe47-48ec-9f44-f94387ccba65",
   "metadata": {},
   "source": [
    "-Exercise map, filter, zip, reduce-"
   ]
  },
  {
   "cell_type": "raw",
   "id": "e192be28-51c2-4297-8a3a-527a83d558a9",
   "metadata": {},
   "source": [
    "from functools import reduce\n",
    "\n",
    "1. Capitalize all of the pet names and print the list\n",
    "\n",
    "my_pets = ['sisi', 'bibi', 'titi', 'carla']\n",
    "\n",
    "2. Zip the 2 lists into a list of tuples, but sort the numbers from lowest to highest.\n",
    "\n",
    "my_strings = ['a', 'b', 'c', 'd', 'e']\n",
    "my_numbers = [5,4,3,2,1]\n",
    "\n",
    "3. Filter the scores that pass over 50%\n",
    "\n",
    "scores = [73, 20, 65, 19, 76, 100, 88]\n",
    "\n",
    "4. Combine all of the numbers that are in a list on this file using reduce (my_numbers and scores). What is the total?"
   ]
  },
  {
   "cell_type": "code",
   "execution_count": 23,
   "id": "c256f309-3231-417c-a0f1-3001388b9baf",
   "metadata": {},
   "outputs": [
    {
     "name": "stdout",
     "output_type": "stream",
     "text": [
      "['SISI', 'BIBI', 'TITI', 'CARLA']\n",
      "[('a', 1), ('b', 2), ('c', 3), ('d', 4), ('e', 5)]\n",
      "[73, 65, 76, 100, 88]\n",
      "456\n"
     ]
    }
   ],
   "source": [
    "from functools import reduce\n",
    "\n",
    "#1\n",
    "my_pets = ['sisi', 'bibi', 'titi', 'carla']\n",
    "\n",
    "def capitalize(string):\n",
    "    return string.upper()\n",
    "\n",
    "print(list(map(capitalize, my_pets)))\n",
    "\n",
    "#2\n",
    "my_strings = ['a', 'b', 'c', 'd', 'e']\n",
    "my_numbers = [5,4,3,2,1]\n",
    "\n",
    "print(list(zip(my_strings, sorted(my_numbers))))\n",
    "\n",
    "#3\n",
    "scores = [73, 20, 65, 19, 76, 100, 88]\n",
    "\n",
    "def is_smart_student(score):\n",
    "    return score > 50\n",
    "\n",
    "print(list(filter(is_smart_student, scores)))\n",
    "\n",
    "#4\n",
    "def accumulator(acc, item):\n",
    "    return acc + item\n",
    "\n",
    "print(reduce(accumulator, (my_numbers + scores)))"
   ]
  },
  {
   "cell_type": "markdown",
   "id": "e1a6c75f-eae6-4026-89e5-d9a247070f8c",
   "metadata": {},
   "source": [
    "-Lambda Expressions-"
   ]
  },
  {
   "cell_type": "raw",
   "id": "6f6681de-6bf7-41d3-a02c-f8936ac6c430",
   "metadata": {},
   "source": [
    "lambda param: action(param)"
   ]
  },
  {
   "cell_type": "code",
   "execution_count": 6,
   "id": "c75b39c7-bc30-4121-adba-3d64c0d1fa4e",
   "metadata": {},
   "outputs": [
    {
     "name": "stdout",
     "output_type": "stream",
     "text": [
      "[2, 4, 6]\n",
      "[1, 3]\n",
      "6\n"
     ]
    }
   ],
   "source": [
    "from functools import reduce\n",
    "\n",
    "my_list = [1, 2, 3]\n",
    "\n",
    "print(list(map(lambda item: item * 2, my_list)))\n",
    "print(list(filter(lambda item: item % 2 != 0, my_list)))\n",
    "print(reduce(lambda acc, item: acc + item, my_list))"
   ]
  },
  {
   "cell_type": "markdown",
   "id": "986b5b1e-f831-44d8-8189-e879d78f0034",
   "metadata": {},
   "source": [
    "-Exercise Lambda Expressions-"
   ]
  },
  {
   "cell_type": "code",
   "execution_count": 16,
   "id": "df4b9c22-1a22-4d69-8d3e-e8e76a9e6829",
   "metadata": {},
   "outputs": [
    {
     "name": "stdout",
     "output_type": "stream",
     "text": [
      "[25, 16, 9]\n",
      "[(10, -1), (0, 2), (4, 3), (9, 9)]\n"
     ]
    }
   ],
   "source": [
    "#Square\n",
    "\n",
    "my_list = [5, 4, 3]\n",
    "new_list = list(map(lambda num: num ** 2, my_list))\n",
    "print(new_list)\n",
    "\n",
    "#List Sorting\n",
    "\n",
    "a = [(0, 2), (4, 3), (10, -1), (9, 9)]\n",
    "a.sort(key=lambda x: x[1])\n",
    "print(a)"
   ]
  },
  {
   "cell_type": "markdown",
   "id": "e351b9e1-a95f-4240-9766-fdfab022a540",
   "metadata": {},
   "source": [
    "-List Comprehensions-"
   ]
  },
  {
   "cell_type": "code",
   "execution_count": 1,
   "id": "b0ee2d0e-b753-4803-a780-45e6f9052868",
   "metadata": {},
   "outputs": [
    {
     "name": "stdout",
     "output_type": "stream",
     "text": [
      "['h', 'e', 'l', 'l', 'o']\n"
     ]
    }
   ],
   "source": [
    "my_list = []\n",
    "\n",
    "for char in 'hello':\n",
    "    my_list.append(char)\n",
    "    \n",
    "print(my_list)"
   ]
  },
  {
   "cell_type": "raw",
   "id": "5c653779-366c-4e78-98b9-7d3fa5a95a38",
   "metadata": {},
   "source": [
    "my_list = [param for param in iterable]"
   ]
  },
  {
   "cell_type": "code",
   "execution_count": 10,
   "id": "3a149eb7-7768-4be3-a996-3f5f7e8b7c9c",
   "metadata": {},
   "outputs": [
    {
     "name": "stdout",
     "output_type": "stream",
     "text": [
      "['h', 'e', 'l', 'l', 'o']\n",
      "[0, 1, 2, 3, 4, 5, 6, 7, 8, 9, 10, 11, 12, 13, 14, 15, 16, 17, 18, 19, 20, 21, 22, 23, 24, 25, 26, 27, 28, 29, 30, 31, 32, 33, 34, 35, 36, 37, 38, 39, 40, 41, 42, 43, 44, 45, 46, 47, 48, 49, 50, 51, 52, 53, 54, 55, 56, 57, 58, 59, 60, 61, 62, 63, 64, 65, 66, 67, 68, 69, 70, 71, 72, 73, 74, 75, 76, 77, 78, 79, 80, 81, 82, 83, 84, 85, 86, 87, 88, 89, 90, 91, 92, 93, 94, 95, 96, 97, 98, 99]\n",
      "[0, 1, 4, 9, 16, 25, 36, 49, 64, 81, 100, 121, 144, 169, 196, 225, 256, 289, 324, 361, 400, 441, 484, 529, 576, 625, 676, 729, 784, 841, 900, 961, 1024, 1089, 1156, 1225, 1296, 1369, 1444, 1521, 1600, 1681, 1764, 1849, 1936, 2025, 2116, 2209, 2304, 2401, 2500, 2601, 2704, 2809, 2916, 3025, 3136, 3249, 3364, 3481, 3600, 3721, 3844, 3969, 4096, 4225, 4356, 4489, 4624, 4761, 4900, 5041, 5184, 5329, 5476, 5625, 5776, 5929, 6084, 6241, 6400, 6561, 6724, 6889, 7056, 7225, 7396, 7569, 7744, 7921, 8100, 8281, 8464, 8649, 8836, 9025, 9216, 9409, 9604, 9801]\n",
      "[0, 4, 16, 36, 64, 100, 144, 196, 256, 324, 400, 484, 576, 676, 784, 900, 1024, 1156, 1296, 1444, 1600, 1764, 1936, 2116, 2304, 2500, 2704, 2916, 3136, 3364, 3600, 3844, 4096, 4356, 4624, 4900, 5184, 5476, 5776, 6084, 6400, 6724, 7056, 7396, 7744, 8100, 8464, 8836, 9216, 9604]\n"
     ]
    }
   ],
   "source": [
    "my_list = [char for char in 'hello']\n",
    "my_list2 = [num for num in range(0, 100)]\n",
    "my_list3 = [num ** 2 for num in range(0, 100)]\n",
    "my_list4 = [num ** 2 for num in range(0, 100) if num % 2 == 0]\n",
    "\n",
    "print(my_list)\n",
    "print(my_list2)\n",
    "print(my_list3)\n",
    "print(my_list4)"
   ]
  },
  {
   "cell_type": "markdown",
   "id": "41dcb12a-bb4b-4250-8306-e648df4d836c",
   "metadata": {},
   "source": [
    "-Set and Dictionary Comprehensions-"
   ]
  },
  {
   "cell_type": "code",
   "execution_count": 11,
   "id": "b636b4cd-1ca7-4787-a04f-61b91184cce1",
   "metadata": {},
   "outputs": [
    {
     "name": "stdout",
     "output_type": "stream",
     "text": [
      "{'e', 'o', 'h', 'l'}\n",
      "{0, 1, 2, 3, 4, 5, 6, 7, 8, 9, 10, 11, 12, 13, 14, 15, 16, 17, 18, 19, 20, 21, 22, 23, 24, 25, 26, 27, 28, 29, 30, 31, 32, 33, 34, 35, 36, 37, 38, 39, 40, 41, 42, 43, 44, 45, 46, 47, 48, 49, 50, 51, 52, 53, 54, 55, 56, 57, 58, 59, 60, 61, 62, 63, 64, 65, 66, 67, 68, 69, 70, 71, 72, 73, 74, 75, 76, 77, 78, 79, 80, 81, 82, 83, 84, 85, 86, 87, 88, 89, 90, 91, 92, 93, 94, 95, 96, 97, 98, 99}\n",
      "{0, 1, 1024, 4096, 4, 9216, 9, 16, 529, 3600, 4624, 25, 36, 2601, 49, 7225, 3136, 64, 576, 1089, 1600, 2116, 5184, 6724, 7744, 9801, 81, 8281, 6241, 100, 625, 121, 4225, 1156, 8836, 3721, 144, 1681, 2704, 5776, 4761, 2209, 676, 169, 3249, 9409, 196, 1225, 5329, 729, 225, 1764, 7396, 6889, 7921, 2809, 256, 2304, 6400, 3844, 4356, 784, 1296, 8464, 289, 3364, 4900, 5929, 1849, 9025, 324, 841, 1369, 2401, 2916, 5476, 361, 3969, 900, 9604, 4489, 400, 1936, 7056, 7569, 3481, 6561, 1444, 8100, 5041, 441, 961, 2500, 6084, 8649, 3025, 484, 2025, 1521, 5625}\n",
      "{0, 256, 1024, 2304, 4, 900, 1156, 3844, 4096, 4356, 8836, 9604, 16, 144, 400, 784, 1296, 1936, 2704, 3600, 4624, 5776, 9216, 36, 676, 1444, 3364, 4900, 8100, 7056, 7744, 64, 576, 1600, 3136, 196, 324, 2116, 2500, 5184, 6084, 6400, 6724, 8464, 100, 484, 1764, 2916, 5476, 7396}\n"
     ]
    }
   ],
   "source": [
    "my_set = {char for char in 'hello'}\n",
    "my_set2 = {num for num in range(0, 100)}\n",
    "my_set3 = {num ** 2 for num in range(0,100)}\n",
    "my_set4 = {num ** 2 for num in range(0, 100) if num % 2 == 0}\n",
    "\n",
    "print(my_set)\n",
    "print(my_set2)\n",
    "print(my_set3)\n",
    "print(my_set4)"
   ]
  },
  {
   "cell_type": "code",
   "execution_count": 14,
   "id": "e549ccc1-45b2-44ef-970b-06c19592f2fc",
   "metadata": {},
   "outputs": [
    {
     "name": "stdout",
     "output_type": "stream",
     "text": [
      "{'b': 4}\n"
     ]
    }
   ],
   "source": [
    "simple_dict = {\n",
    "    'a' : 1,\n",
    "    'b' : 2\n",
    "}\n",
    "\n",
    "my_dict = {key : value ** 2 for key, value in simple_dict.items() if value % 2 == 0}\n",
    "\n",
    "print(my_dict)"
   ]
  },
  {
   "cell_type": "code",
   "execution_count": 15,
   "id": "0f680fc6-31d5-47fd-af98-7de1377c843d",
   "metadata": {},
   "outputs": [
    {
     "name": "stdout",
     "output_type": "stream",
     "text": [
      "{1: 2, 2: 4, 3: 6}\n"
     ]
    }
   ],
   "source": [
    "my_dict = {num : num * 2 for num in [1, 2, 3]}\n",
    "\n",
    "print(my_dict)"
   ]
  },
  {
   "cell_type": "markdown",
   "id": "dc9e187c-4da9-4505-a302-206abc037016",
   "metadata": {},
   "source": [
    "-Exercise Comprehensions-"
   ]
  },
  {
   "cell_type": "code",
   "execution_count": 19,
   "id": "bd5ee757-489d-44f4-8602-2f55cf9fef25",
   "metadata": {},
   "outputs": [
    {
     "name": "stdout",
     "output_type": "stream",
     "text": [
      "['n', 'b']\n"
     ]
    }
   ],
   "source": [
    "some_list = ['a', 'b', 'c', 'b', 'd', 'm', 'n', 'n']\n",
    "\n",
    "duplicates = list(set([x for x in some_list if some_list.count(x) > 1]))\n",
    "\n",
    "print(duplicates)"
   ]
  },
  {
   "cell_type": "code",
   "execution_count": null,
   "id": "ef57ad65-a320-4f8b-8fcd-34ef9be3cd85",
   "metadata": {},
   "outputs": [],
   "source": []
  }
 ],
 "metadata": {
  "kernelspec": {
   "display_name": "Python 3 (ipykernel)",
   "language": "python",
   "name": "python3"
  },
  "language_info": {
   "codemirror_mode": {
    "name": "ipython",
    "version": 3
   },
   "file_extension": ".py",
   "mimetype": "text/x-python",
   "name": "python",
   "nbconvert_exporter": "python",
   "pygments_lexer": "ipython3",
   "version": "3.9.13"
  }
 },
 "nbformat": 4,
 "nbformat_minor": 5
}
