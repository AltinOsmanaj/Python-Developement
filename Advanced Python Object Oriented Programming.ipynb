{
 "cells": [
  {
   "cell_type": "markdown",
   "id": "aba455af-728b-46be-bc2b-ef3789a72efe",
   "metadata": {},
   "source": [
    "-What Is OOP-"
   ]
  },
  {
   "cell_type": "code",
   "execution_count": 7,
   "id": "2477eb07-d705-4f1f-8b87-6d3ff35dc795",
   "metadata": {},
   "outputs": [
    {
     "name": "stdout",
     "output_type": "stream",
     "text": [
      "<class '__main__.BigObject'>\n"
     ]
    }
   ],
   "source": [
    "class BigObject: #Class\n",
    "    #code\n",
    "    pass\n",
    "\n",
    "obj1 = BigObject()\n",
    "obj2 = BigObject()\n",
    "obj3 = BigObject()\n",
    "\n",
    "print(type(obj1)) #instanciate"
   ]
  },
  {
   "cell_type": "markdown",
   "id": "429cf22d-da35-46a6-8574-483890353895",
   "metadata": {},
   "source": [
    "-Creating Our Own Objects-"
   ]
  },
  {
   "cell_type": "code",
   "execution_count": 1,
   "id": "cb5aab21-4132-4421-a6a5-cd9edc13ead4",
   "metadata": {},
   "outputs": [
    {
     "name": "stdout",
     "output_type": "stream",
     "text": [
      "Altin\n",
      "Tom\n",
      "21\n",
      "44\n",
      "50\n",
      "run\n",
      "done\n"
     ]
    }
   ],
   "source": [
    "class PlayerCharacter:\n",
    "    def __init__(self, name, age):\n",
    "        self.name = name #attributes\n",
    "        self.age = age\n",
    "    \n",
    "    def run(self):\n",
    "        print('run')\n",
    "        return 'done'\n",
    "    \n",
    "player1 = PlayerCharacter('Altin', 21)\n",
    "player2 = PlayerCharacter('Tom', 44)\n",
    "player2.attack = 50\n",
    "\n",
    "print(player1.name)\n",
    "print(player2.name)\n",
    "print(player1.age)\n",
    "print(player2.age)\n",
    "print(player2.attack)\n",
    "print(player1.run())"
   ]
  },
  {
   "cell_type": "markdown",
   "id": "d30ed9eb-668f-4709-b3c5-1114cd426fce",
   "metadata": {},
   "source": [
    "-Attributes and Methods-"
   ]
  },
  {
   "cell_type": "code",
   "execution_count": 2,
   "id": "901992d9-9968-4b2c-b263-bb861e51f91e",
   "metadata": {
    "scrolled": true,
    "tags": []
   },
   "outputs": [
    {
     "name": "stdout",
     "output_type": "stream",
     "text": [
      "Help on PlayerCharacter in module __main__ object:\n",
      "\n",
      "class PlayerCharacter(builtins.object)\n",
      " |  PlayerCharacter(name, age)\n",
      " |  \n",
      " |  Methods defined here:\n",
      " |  \n",
      " |  __init__(self, name, age)\n",
      " |      Initialize self.  See help(type(self)) for accurate signature.\n",
      " |  \n",
      " |  run(self)\n",
      " |  \n",
      " |  ----------------------------------------------------------------------\n",
      " |  Data descriptors defined here:\n",
      " |  \n",
      " |  __dict__\n",
      " |      dictionary for instance variables (if defined)\n",
      " |  \n",
      " |  __weakref__\n",
      " |      list of weak references to the object (if defined)\n",
      "\n"
     ]
    }
   ],
   "source": [
    "help(player1)"
   ]
  },
  {
   "cell_type": "code",
   "execution_count": 3,
   "id": "391d630c-8f82-4fe8-a7fc-acc221e9697c",
   "metadata": {
    "scrolled": true,
    "tags": []
   },
   "outputs": [
    {
     "name": "stdout",
     "output_type": "stream",
     "text": [
      "Help on class list in module builtins:\n",
      "\n",
      "class list(object)\n",
      " |  list(iterable=(), /)\n",
      " |  \n",
      " |  Built-in mutable sequence.\n",
      " |  \n",
      " |  If no argument is given, the constructor creates a new empty list.\n",
      " |  The argument must be an iterable if specified.\n",
      " |  \n",
      " |  Methods defined here:\n",
      " |  \n",
      " |  __add__(self, value, /)\n",
      " |      Return self+value.\n",
      " |  \n",
      " |  __contains__(self, key, /)\n",
      " |      Return key in self.\n",
      " |  \n",
      " |  __delitem__(self, key, /)\n",
      " |      Delete self[key].\n",
      " |  \n",
      " |  __eq__(self, value, /)\n",
      " |      Return self==value.\n",
      " |  \n",
      " |  __ge__(self, value, /)\n",
      " |      Return self>=value.\n",
      " |  \n",
      " |  __getattribute__(self, name, /)\n",
      " |      Return getattr(self, name).\n",
      " |  \n",
      " |  __getitem__(...)\n",
      " |      x.__getitem__(y) <==> x[y]\n",
      " |  \n",
      " |  __gt__(self, value, /)\n",
      " |      Return self>value.\n",
      " |  \n",
      " |  __iadd__(self, value, /)\n",
      " |      Implement self+=value.\n",
      " |  \n",
      " |  __imul__(self, value, /)\n",
      " |      Implement self*=value.\n",
      " |  \n",
      " |  __init__(self, /, *args, **kwargs)\n",
      " |      Initialize self.  See help(type(self)) for accurate signature.\n",
      " |  \n",
      " |  __iter__(self, /)\n",
      " |      Implement iter(self).\n",
      " |  \n",
      " |  __le__(self, value, /)\n",
      " |      Return self<=value.\n",
      " |  \n",
      " |  __len__(self, /)\n",
      " |      Return len(self).\n",
      " |  \n",
      " |  __lt__(self, value, /)\n",
      " |      Return self<value.\n",
      " |  \n",
      " |  __mul__(self, value, /)\n",
      " |      Return self*value.\n",
      " |  \n",
      " |  __ne__(self, value, /)\n",
      " |      Return self!=value.\n",
      " |  \n",
      " |  __repr__(self, /)\n",
      " |      Return repr(self).\n",
      " |  \n",
      " |  __reversed__(self, /)\n",
      " |      Return a reverse iterator over the list.\n",
      " |  \n",
      " |  __rmul__(self, value, /)\n",
      " |      Return value*self.\n",
      " |  \n",
      " |  __setitem__(self, key, value, /)\n",
      " |      Set self[key] to value.\n",
      " |  \n",
      " |  __sizeof__(self, /)\n",
      " |      Return the size of the list in memory, in bytes.\n",
      " |  \n",
      " |  append(self, object, /)\n",
      " |      Append object to the end of the list.\n",
      " |  \n",
      " |  clear(self, /)\n",
      " |      Remove all items from list.\n",
      " |  \n",
      " |  copy(self, /)\n",
      " |      Return a shallow copy of the list.\n",
      " |  \n",
      " |  count(self, value, /)\n",
      " |      Return number of occurrences of value.\n",
      " |  \n",
      " |  extend(self, iterable, /)\n",
      " |      Extend list by appending elements from the iterable.\n",
      " |  \n",
      " |  index(self, value, start=0, stop=9223372036854775807, /)\n",
      " |      Return first index of value.\n",
      " |      \n",
      " |      Raises ValueError if the value is not present.\n",
      " |  \n",
      " |  insert(self, index, object, /)\n",
      " |      Insert object before index.\n",
      " |  \n",
      " |  pop(self, index=-1, /)\n",
      " |      Remove and return item at index (default last).\n",
      " |      \n",
      " |      Raises IndexError if list is empty or index is out of range.\n",
      " |  \n",
      " |  remove(self, value, /)\n",
      " |      Remove first occurrence of value.\n",
      " |      \n",
      " |      Raises ValueError if the value is not present.\n",
      " |  \n",
      " |  reverse(self, /)\n",
      " |      Reverse *IN PLACE*.\n",
      " |  \n",
      " |  sort(self, /, *, key=None, reverse=False)\n",
      " |      Sort the list in ascending order and return None.\n",
      " |      \n",
      " |      The sort is in-place (i.e. the list itself is modified) and stable (i.e. the\n",
      " |      order of two equal elements is maintained).\n",
      " |      \n",
      " |      If a key function is given, apply it once to each list item and sort them,\n",
      " |      ascending or descending, according to their function values.\n",
      " |      \n",
      " |      The reverse flag can be set to sort in descending order.\n",
      " |  \n",
      " |  ----------------------------------------------------------------------\n",
      " |  Class methods defined here:\n",
      " |  \n",
      " |  __class_getitem__(...) from builtins.type\n",
      " |      See PEP 585\n",
      " |  \n",
      " |  ----------------------------------------------------------------------\n",
      " |  Static methods defined here:\n",
      " |  \n",
      " |  __new__(*args, **kwargs) from builtins.type\n",
      " |      Create and return a new object.  See help(type) for accurate signature.\n",
      " |  \n",
      " |  ----------------------------------------------------------------------\n",
      " |  Data and other attributes defined here:\n",
      " |  \n",
      " |  __hash__ = None\n",
      "\n"
     ]
    }
   ],
   "source": [
    "help(list)"
   ]
  },
  {
   "cell_type": "code",
   "execution_count": 14,
   "id": "a67d826e-1562-4ef3-86bb-701689a3622f",
   "metadata": {},
   "outputs": [
    {
     "name": "stdout",
     "output_type": "stream",
     "text": [
      "Altin\n",
      "True\n",
      "True\n",
      "My name is Altin\n",
      "None\n",
      "My name is Tom\n",
      "None\n",
      "My name is Altin\n",
      "None\n"
     ]
    }
   ],
   "source": [
    "class PlayerCaracter:\n",
    "    #Class Object Attribute\n",
    "    membership = True\n",
    "    def __init__(self, name, age):\n",
    "        if (self.membership): #if (PlayerCharacter.membership):\n",
    "            self.name = name\n",
    "            self.age = age\n",
    "    \n",
    "    def shout(self):\n",
    "        print(f'My name is {self.name}')\n",
    "        \n",
    "    def run(self, hello):\n",
    "        print(f'My name is {self.name}')\n",
    "        \n",
    "player1 = PlayerCaracter('Altin', 21)\n",
    "player2 = PlayerCaracter('Tom', 44)\n",
    "\n",
    "print(player1.name)\n",
    "print(player1.membership)\n",
    "print(player2.membership)\n",
    "print(player1.shout())\n",
    "print(player2.shout())\n",
    "print(player1.run('hello'))"
   ]
  },
  {
   "cell_type": "markdown",
   "id": "b44ba940-a2d9-4d48-92bc-6333b77d0e29",
   "metadata": {},
   "source": [
    "-__init__-"
   ]
  },
  {
   "cell_type": "code",
   "execution_count": 32,
   "id": "3f3d3afc-baa8-46ef-becd-4d21b61a403f",
   "metadata": {},
   "outputs": [
    {
     "name": "stdout",
     "output_type": "stream",
     "text": [
      "My name is Tom\n",
      "None\n"
     ]
    }
   ],
   "source": [
    "class PlayerCaracter:\n",
    "    #Class Object Attribute\n",
    "    membership = True\n",
    "    def __init__(self, name='anonymous', age=0):\n",
    "        if (age > 18):\n",
    "            self.name = name\n",
    "            self.age = age\n",
    "    \n",
    "    def shout(self):\n",
    "        print(f'My name is {self.name}')\n",
    "        \n",
    "player1 = PlayerCaracter('Tom', 20)\n",
    "\n",
    "print(player1.shout())"
   ]
  },
  {
   "cell_type": "markdown",
   "id": "2d59185e-fff9-40a3-856b-53f1f1b2cec1",
   "metadata": {},
   "source": [
    "-Exercise Cats Everywhere-"
   ]
  },
  {
   "cell_type": "raw",
   "id": "ebd3b7aa-c0d5-46e7-9f05-09d5a7b50885",
   "metadata": {},
   "source": [
    "Given the below class:\n",
    "class Cat:\n",
    "    species = 'mammal'\n",
    "    def __init__(self, name, age):\n",
    "        self.name = name\n",
    "        self.age = age\n",
    "\n",
    "\n",
    "1. Instantiate the Cat object with 3 cats\n",
    "2. Create a function that finds the oldest cat\n",
    "3. Print out: \"The oldest cat is x years old.\". x will be the oldest cat age by using the function in #2"
   ]
  },
  {
   "cell_type": "code",
   "execution_count": 33,
   "id": "60dd3adb-661f-4acb-8e35-c9c544ca0d3f",
   "metadata": {},
   "outputs": [
    {
     "name": "stdout",
     "output_type": "stream",
     "text": [
      "The oldest cat is 5 years old.\n"
     ]
    }
   ],
   "source": [
    "class Cat:\n",
    "    species = 'mammal'\n",
    "    def __init__(self, name, age):\n",
    "        self.name = name\n",
    "        self.age = age\n",
    "        \n",
    "#1\n",
    "peanut = Cat(\"Peanut\", 3)\n",
    "garfield = Cat(\"Garfield\", 5)\n",
    "snickers = Cat(\"Snickers\", 1)\n",
    "\n",
    "#2\n",
    "def get_oldest_cat(*args):\n",
    "    return max(args)\n",
    "\n",
    "#3\n",
    "print(f\"The oldest cat is {get_oldest_cat(peanut.age, garfield.age, snickers.age)} years old.\")"
   ]
  },
  {
   "cell_type": "markdown",
   "id": "30a20264-0e5c-4ebe-ade1-2c6939940b6a",
   "metadata": {},
   "source": [
    "-@classmethod and @staticmethod-"
   ]
  },
  {
   "cell_type": "code",
   "execution_count": 38,
   "id": "02407572-4ea1-4ff2-8d57-7b7614cb70f6",
   "metadata": {},
   "outputs": [
    {
     "name": "stdout",
     "output_type": "stream",
     "text": [
      "5\n"
     ]
    }
   ],
   "source": [
    "class PlayerCaracter:\n",
    "    #Class Object Attribute\n",
    "    membership = True\n",
    "    def __init__(self, name, age):\n",
    "        self.name = name\n",
    "        self.age = age\n",
    "    \n",
    "    def shout(self):\n",
    "        print(f'My name is {self.name}')\n",
    "        \n",
    "    @classmethod\n",
    "    def adding_things(cls, num1, num2):\n",
    "        return cls('Teddy', num1 + num2)\n",
    "    \n",
    "    @staticmethod\n",
    "    def adding_things2(num1, num2):\n",
    "        return num1 + num2\n",
    "\n",
    "#player1 = PlayerCaracter('Tom', 20)\n",
    "#print(player1.adding_things(2, 3))\n",
    "\n",
    "player3 = PlayerCaracter.adding_things(2, 3)\n",
    "print(player3.age)"
   ]
  },
  {
   "cell_type": "markdown",
   "id": "72e5e01d-32b8-4157-aa53-6d27274eeec4",
   "metadata": {},
   "source": [
    "-Reviewing What We Know So Far-"
   ]
  },
  {
   "cell_type": "raw",
   "id": "6ea032a5-db49-4455-a722-c329a48a7a09",
   "metadata": {},
   "source": [
    "class NameOfClass():\n",
    "    class_attribute = 'value'\n",
    "    def __init__(self, param1, param2):\n",
    "        self.param1 = param1\n",
    "        self.param2 = param2\n",
    "    \n",
    "    def method(self):\n",
    "        #code\n",
    "    \n",
    "    @classmethod\n",
    "    def cls_method(cls, param1, param2):\n",
    "        #code\n",
    "    \n",
    "    @staticmethod\n",
    "    def stc_method(param1, param2):\n",
    "        #code"
   ]
  },
  {
   "cell_type": "markdown",
   "id": "3674270d-75ba-4302-9a32-b2367c041642",
   "metadata": {},
   "source": [
    "-Inheritance-"
   ]
  },
  {
   "cell_type": "code",
   "execution_count": 60,
   "id": "fae001f3-f030-4650-ae7e-34f0eea69dd2",
   "metadata": {},
   "outputs": [
    {
     "name": "stdout",
     "output_type": "stream",
     "text": [
      "logged in\n",
      "logged in\n",
      "attacking with power of 50\n",
      "attacking with arrows: arrows left - 100\n"
     ]
    }
   ],
   "source": [
    "class User():\n",
    "    def sign_in(self):\n",
    "        print('logged in')\n",
    "\n",
    "class Wizard(User):\n",
    "    def __init__(self, name, power):\n",
    "        self.name = name\n",
    "        self.power = power\n",
    "    \n",
    "    def attack(self):\n",
    "        print(f'attacking with power of {self.power}')\n",
    "\n",
    "class Archer(User):\n",
    "    def __init__(self, name, num_arrows):\n",
    "        self.name = name\n",
    "        self. num_arrows = num_arrows\n",
    "    \n",
    "    def attack(self):\n",
    "        print(f'attacking with arrows: arrows left - {self.num_arrows}')\n",
    "\n",
    "wizard1 = Wizard('Merlin', 50)\n",
    "archer1 = Archer('Robin', 100)\n",
    "wizard1.sign_in()\n",
    "archer1.sign_in()\n",
    "wizard1.attack()\n",
    "archer1.attack()"
   ]
  },
  {
   "cell_type": "code",
   "execution_count": 67,
   "id": "eed2d72d-6aa3-4f6d-a3b6-f8709a90e3f2",
   "metadata": {},
   "outputs": [
    {
     "name": "stdout",
     "output_type": "stream",
     "text": [
      "True\n",
      "True\n",
      "True\n"
     ]
    }
   ],
   "source": [
    "class User():\n",
    "    def sign_in(self):\n",
    "        print('logged in')\n",
    "\n",
    "class Wizard(User):\n",
    "    def __init__(self, name, power):\n",
    "        self.name = name\n",
    "        self.power = power\n",
    "    \n",
    "    def attack(self):\n",
    "        print(f'attacking with power of {self.power}')\n",
    "\n",
    "class Archer(User):\n",
    "    def __init__(self, name, num_arrows):\n",
    "        self.name = name\n",
    "        self. num_arrows = num_arrows\n",
    "    \n",
    "    def attack(self):\n",
    "        print(f'attacking with arrows: arrows left - {self.num_arrows}')\n",
    "\n",
    "wizard1 = Wizard('Merlin', 60)\n",
    "print(isinstance(wizard1, Wizard))\n",
    "print(isinstance(wizard1, User))\n",
    "print(isinstance(wizard1, object))"
   ]
  },
  {
   "cell_type": "markdown",
   "id": "d0db87fa-a9b5-4c0b-a180-69e25ec29cb7",
   "metadata": {},
   "source": [
    "-Exercise Pets Everywhere-"
   ]
  },
  {
   "cell_type": "raw",
   "id": "c1fe6bdc-2b27-46cb-8ab3-ff467fe5569c",
   "metadata": {},
   "source": [
    "class Pets():\n",
    "    animals = []\n",
    "    def __init__(self, animals):\n",
    "        self.animals = animals\n",
    "\n",
    "    def walk(self):\n",
    "        for animal in self.animals:\n",
    "            print(animal.walk())\n",
    "\n",
    "class Cat():\n",
    "    is_lazy = True\n",
    "\n",
    "    def __init__(self, name, age):\n",
    "        self.name = name\n",
    "        self.age = age\n",
    "\n",
    "    def walk(self):\n",
    "        return f'{self.name} is just walking around'\n",
    "\n",
    "class Simon(Cat):\n",
    "    def sing(self, sounds):\n",
    "        return f'{sounds}'\n",
    "\n",
    "class Sally(Cat):\n",
    "    def sing(self, sounds):\n",
    "        return f'{sounds}'\n",
    "\n",
    "1. Add another Cat\n",
    "2. Create a list of all of the pets (create 3 cat instances from the above)\n",
    "my_cats = []\n",
    "3. Instantiate the Pet class with all your cats use variable my_pets\n",
    "4. Output all of the cats walking using the my_pets instance"
   ]
  },
  {
   "cell_type": "code",
   "execution_count": 145,
   "id": "98d7baff-f886-4648-a8e5-949ed1482334",
   "metadata": {},
   "outputs": [
    {
     "name": "stdout",
     "output_type": "stream",
     "text": [
      "Simon is just walking around\n",
      "Sally is just walking around\n",
      "Suzy is just walking around\n"
     ]
    }
   ],
   "source": [
    "class Pets():\n",
    "    animals = []\n",
    "    def __init__(self, animals):\n",
    "        self.animals = animals\n",
    "\n",
    "    def walk(self):\n",
    "        for animal in self.animals:\n",
    "            print(animal.walk())\n",
    "\n",
    "class Cat():\n",
    "    is_lazy = True\n",
    "\n",
    "    def __init__(self, name, age):\n",
    "        self.name = name\n",
    "        self.age = age\n",
    "\n",
    "    def walk(self):\n",
    "        return f'{self.name} is just walking around'\n",
    "\n",
    "class Simon(Cat):\n",
    "    def sing(self, sounds):\n",
    "        return f'{sounds}'\n",
    "\n",
    "class Sally(Cat):\n",
    "    def sing(self, sounds):\n",
    "        return f'{sounds}'\n",
    "\n",
    "#1 \n",
    "class Suzy(Cat):\n",
    "    def sing(self, sounds):\n",
    "        return f'{sounds}'\n",
    "\n",
    "#2\n",
    "my_cats = [Simon('Simon', 4), Sally('Sally', 21), Suzy('Suzy', 1)]\n",
    "\n",
    "#3\n",
    "my_pets = Pets(my_cats)\n",
    "\n",
    "#4\n",
    "my_pets.walk()"
   ]
  },
  {
   "cell_type": "markdown",
   "id": "558c1c8f-9199-4649-8b85-655b431ac2f4",
   "metadata": {},
   "source": [
    "-super()-"
   ]
  },
  {
   "cell_type": "code",
   "execution_count": 126,
   "id": "c9b96327-bcb9-4377-aa6d-ebb039d69b9a",
   "metadata": {},
   "outputs": [
    {
     "name": "stdout",
     "output_type": "stream",
     "text": [
      "merlin@gmail.com\n"
     ]
    }
   ],
   "source": [
    "class User(object):\n",
    "    def __init__(self, email):\n",
    "        self.email = email\n",
    "        \n",
    "    def sign_in(self):\n",
    "        print('logged in')\n",
    "\n",
    "class Wizard(User):\n",
    "    def __init__(self, name, power, email):\n",
    "        User.__init__(self, email)\n",
    "        self.name = name\n",
    "        self.power = power\n",
    "        \n",
    "    def attack(self):\n",
    "        print(f'attacking with power of {self.power}')\n",
    "        \n",
    "wizard1 = Wizard('Merlin', 60, 'merlin@gmail.com')\n",
    "print(wizard1.email)"
   ]
  },
  {
   "cell_type": "code",
   "execution_count": 127,
   "id": "8b737c54-b8b1-47da-acd4-5ef2b2829c3e",
   "metadata": {},
   "outputs": [
    {
     "name": "stdout",
     "output_type": "stream",
     "text": [
      "merlin@gmail.com\n"
     ]
    }
   ],
   "source": [
    "class User(object):\n",
    "    def __init__(self, email):\n",
    "        self.email = email\n",
    "        \n",
    "    def sign_in(self):\n",
    "        print('logged in')\n",
    "\n",
    "class Wizard(User):\n",
    "    def __init__(self, name, power, email):\n",
    "        super().__init__(email)\n",
    "        self.name = name\n",
    "        self.power = power\n",
    "        \n",
    "    def attack(self):\n",
    "        print(f'attacking with power of {self.power}')\n",
    "        \n",
    "wizard1 = Wizard('Merlin', 60, 'merlin@gmail.com')\n",
    "print(wizard1.email)"
   ]
  },
  {
   "cell_type": "markdown",
   "id": "d7cfa805-550d-4156-8f15-8b0192064e2a",
   "metadata": {},
   "source": [
    "-Object Introspection-"
   ]
  },
  {
   "cell_type": "code",
   "execution_count": 128,
   "id": "6fcb7222-b9a8-46c8-99c5-a88cb497d120",
   "metadata": {},
   "outputs": [
    {
     "name": "stdout",
     "output_type": "stream",
     "text": [
      "['__class__', '__delattr__', '__dict__', '__dir__', '__doc__', '__eq__', '__format__', '__ge__', '__getattribute__', '__gt__', '__hash__', '__init__', '__init_subclass__', '__le__', '__lt__', '__module__', '__ne__', '__new__', '__reduce__', '__reduce_ex__', '__repr__', '__setattr__', '__sizeof__', '__str__', '__subclasshook__', '__weakref__', 'attack', 'email', 'name', 'power', 'sign_in']\n"
     ]
    }
   ],
   "source": [
    "print(dir(wizard1))"
   ]
  },
  {
   "cell_type": "markdown",
   "id": "0badd683-95d7-479c-ab0b-ae68dc2f1c12",
   "metadata": {},
   "source": [
    "-Dunder Methods-"
   ]
  },
  {
   "cell_type": "code",
   "execution_count": 129,
   "id": "c18cd21d-5a32-4217-ae0c-25e9151689a8",
   "metadata": {},
   "outputs": [
    {
     "name": "stdout",
     "output_type": "stream",
     "text": [
      "red\n",
      "red\n",
      "5\n",
      "yess??\n",
      "Yoyo\n",
      "deleted!\n"
     ]
    }
   ],
   "source": [
    "class Toy():\n",
    "    def __init__(self, color, age):\n",
    "        self.color = color\n",
    "        self.age = age\n",
    "        self.my_dict = {\n",
    "            'name' : 'Yoyo',\n",
    "            'has_pets' : False\n",
    "        }\n",
    "        \n",
    "    def __str__(self):\n",
    "        return f'{self.color}'\n",
    "    \n",
    "    def __len__(self):\n",
    "        return 5\n",
    "    \n",
    "    def __call__(self):\n",
    "        return('yess??')\n",
    "    \n",
    "    def __getitem__(self, i):\n",
    "        return self.my_dict[i]\n",
    "    \n",
    "    def __del__(self):\n",
    "        print('deleted!')\n",
    "    \n",
    "action_figure = Toy('red', 0)\n",
    "print(action_figure.__str__())\n",
    "print(str(action_figure))\n",
    "print(len(action_figure))\n",
    "print(action_figure())\n",
    "print(action_figure['name'])\n",
    "del action_figure"
   ]
  },
  {
   "cell_type": "markdown",
   "id": "b8bd1c79-78f5-4e36-bca7-8db431564ffd",
   "metadata": {},
   "source": [
    "-Exercise Extending List-"
   ]
  },
  {
   "cell_type": "code",
   "execution_count": 130,
   "id": "b358fed6-c47b-42a7-8d27-04ea024f9d66",
   "metadata": {},
   "outputs": [
    {
     "name": "stdout",
     "output_type": "stream",
     "text": [
      "1000\n",
      "5\n",
      "True\n",
      "True\n"
     ]
    }
   ],
   "source": [
    "class SuperList(list):\n",
    "    def __len__(self):\n",
    "        return 1000\n",
    "    \n",
    "super_list1 = SuperList()\n",
    "    \n",
    "print(len(super_list1))\n",
    "super_list1.append(5)\n",
    "print(super_list1[0])\n",
    "print(issubclass(SuperList, list))\n",
    "print(issubclass(list, object))"
   ]
  },
  {
   "cell_type": "markdown",
   "id": "ac83b012-bf4e-4a70-ad3b-cd841c41b45b",
   "metadata": {},
   "source": [
    "-Multiple Inheritance-"
   ]
  },
  {
   "cell_type": "code",
   "execution_count": 131,
   "id": "cec5c039-c55b-4703-9bd3-992379b107ff",
   "metadata": {},
   "outputs": [
    {
     "name": "stdout",
     "output_type": "stream",
     "text": [
      "ran really fast\n",
      "None\n",
      "100 remaining\n",
      "None\n",
      "attacking with power of 50\n",
      "None\n",
      "logged in\n",
      "None\n"
     ]
    }
   ],
   "source": [
    "class User():\n",
    "    def sign_in(self):\n",
    "        print('logged in')\n",
    "\n",
    "class Wizard(User):\n",
    "    def __init__(self, name, power):\n",
    "        self.name = name\n",
    "        self.power = power\n",
    "    \n",
    "    def attack(self):\n",
    "        print(f'attacking with power of {self.power}')\n",
    "        \n",
    "class Archer(User):\n",
    "    def __init__(self, name, arrows):\n",
    "        self.name = name\n",
    "        self.arrows = arrows\n",
    "    \n",
    "    def check_arrows(self):\n",
    "        print(f'{self.arrows} remaining')\n",
    "        \n",
    "    def run(self):\n",
    "        print('ran really fast')\n",
    "\n",
    "class HybridBorg(Wizard, Archer):\n",
    "    def __init__(self, name, power, arrows):\n",
    "        Archer.__init__(self, name, arrows)\n",
    "        Wizard.__init__(self, name, power)\n",
    "\n",
    "hb1 = HybridBorg('Borgie', 50, 100)\n",
    "print(hb1.run())\n",
    "print(hb1.check_arrows())\n",
    "print(hb1.attack())\n",
    "print(hb1.sign_in())"
   ]
  },
  {
   "cell_type": "markdown",
   "id": "b0dfc59c-3083-454e-a711-152c109b0798",
   "metadata": {},
   "source": [
    "-Method Resolution Order-"
   ]
  },
  {
   "cell_type": "code",
   "execution_count": 132,
   "id": "b289c04a-3d20-4564-8c76-c8b19a055a19",
   "metadata": {},
   "outputs": [
    {
     "name": "stdout",
     "output_type": "stream",
     "text": [
      "1\n",
      "[<class '__main__.D'>, <class '__main__.B'>, <class '__main__.C'>, <class '__main__.A'>, <class 'object'>]\n"
     ]
    }
   ],
   "source": [
    "class A:\n",
    "    num = 10\n",
    "    \n",
    "class B(A):\n",
    "    pass\n",
    "\n",
    "class C(A):\n",
    "    num = 1\n",
    "    \n",
    "class D(B, C):\n",
    "    pass\n",
    "\n",
    "print(D.num)\n",
    "print(D.mro())"
   ]
  },
  {
   "cell_type": "raw",
   "id": "35f5f560-3624-4de4-90cc-b1e6db9aba48",
   "metadata": {},
   "source": [
    "    A\n",
    "  /   \\\n",
    " /     \\\n",
    "B       C\n",
    " \\     /\n",
    "  \\   /\n",
    "    D"
   ]
  },
  {
   "attachments": {
    "caf34ab7-b9de-46b9-bdce-0a0217542c8e.png": {
     "image/png": "[encoded data removed]"
    }
   },
   "cell_type": "markdown",
   "id": "971fddd0-278c-41ca-b14b-985c48ee67de",
   "metadata": {},
   "source": [
    "![image.png](attachment:caf34ab7-b9de-46b9-bdce-0a0217542c8e.png)"
   ]
  },
  {
   "cell_type": "code",
   "execution_count": 133,
   "id": "f45f5e34-2762-434f-ba5f-81811e1afe81",
   "metadata": {},
   "outputs": [
    {
     "name": "stdout",
     "output_type": "stream",
     "text": [
      "(<class '__main__.M'>, <class '__main__.B'>, <class '__main__.A'>, <class '__main__.X'>, <class '__main__.Y'>, <class '__main__.Z'>, <class 'object'>)\n"
     ]
    }
   ],
   "source": [
    "class X : pass\n",
    "class Y : pass\n",
    "class Z : pass\n",
    "class A(X, Y) : pass\n",
    "class B(Y, Z) : pass\n",
    "class M(B, A, Z): pass\n",
    "\n",
    "print(M.__mro__)"
   ]
  }
 ],
 "metadata": {
  "kernelspec": {
   "display_name": "Python 3 (ipykernel)",
   "language": "python",
   "name": "python3"
  },
  "language_info": {
   "codemirror_mode": {
    "name": "ipython",
    "version": 3
   },
   "file_extension": ".py",
   "mimetype": "text/x-python",
   "name": "python",
   "nbconvert_exporter": "python",
   "pygments_lexer": "ipython3",
   "version": "3.9.13"
  }
 },
 "nbformat": 4,
 "nbformat_minor": 5
}
