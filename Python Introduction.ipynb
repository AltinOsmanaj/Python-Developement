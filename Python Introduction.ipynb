{
 "cells": [
  {
   "cell_type": "code",
   "execution_count": 2,
   "id": "fee5c948-38e4-4ed6-a916-336f0b98437c",
   "metadata": {},
   "outputs": [
    {
     "name": "stdout",
     "output_type": "stream",
     "text": [
      "Altin Osmanaj\n"
     ]
    }
   ],
   "source": [
    "print('Altin Osmanaj')"
   ]
  },
  {
   "cell_type": "code",
   "execution_count": 6,
   "id": "042c82f1-f1fa-4ce1-b500-46b4dc2a7480",
   "metadata": {},
   "outputs": [
    {
     "name": "stdin",
     "output_type": "stream",
     "text": [
      "What is your name? Altin\n"
     ]
    },
    {
     "name": "stdout",
     "output_type": "stream",
     "text": [
      "heeelllooooo Altin\n"
     ]
    }
   ],
   "source": [
    "name = input('What is your name?')\n",
    "print('heeelllooooo ' + name)"
   ]
  }
 ],
 "metadata": {
  "kernelspec": {
   "display_name": "Python 3 (ipykernel)",
   "language": "python",
   "name": "python3"
  },
  "language_info": {
   "codemirror_mode": {
    "name": "ipython",
    "version": 3
   },
   "file_extension": ".py",
   "mimetype": "text/x-python",
   "name": "python",
   "nbconvert_exporter": "python",
   "pygments_lexer": "ipython3",
   "version": "3.9.13"
  }
 },
 "nbformat": 4,
 "nbformat_minor": 5
}
